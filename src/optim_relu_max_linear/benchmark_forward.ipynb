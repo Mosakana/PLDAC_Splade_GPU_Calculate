{
 "cells": [
  {
   "cell_type": "code",
   "execution_count": 7,
   "id": "initial_id",
   "metadata": {
    "collapsed": true,
    "ExecuteTime": {
     "end_time": "2024-06-26T12:03:03.157484807Z",
     "start_time": "2024-06-26T12:03:03.113541544Z"
    }
   },
   "outputs": [],
   "source": [
    "from optim_forward_without_iteration import OptimReluMaxLinear as OptimForward\n",
    "from optim_relu_max_linear import OptimReluMaxLinear\n",
    "import triton\n",
    "import torch"
   ]
  },
  {
   "cell_type": "code",
   "outputs": [
    {
     "name": "stdout",
     "output_type": "stream",
     "text": [
      "tensor(0.0047, device='cuda:0')\n"
     ]
    }
   ],
   "source": [
    "B = 16\n",
    "L = 100\n",
    "D = 300\n",
    "V = 10000\n",
    "\n",
    "x = torch.randn(B, L, D, requires_grad=True, dtype=torch.float64, device='cuda')\n",
    "w = torch.randn(D, V, requires_grad=True, dtype=torch.float64, device='cuda')\n",
    "b = -torch.sqrt(-2 * torch.log(torch.tensor(0.005, device='cuda').repeat(V))) * 21\n",
    "\n",
    "res = x @ w + b.reshape(1, 1, *b.shape).max(axis=1)[0]\n",
    "print((res > 0).sum() / (B * V))"
   ],
   "metadata": {
    "collapsed": false,
    "ExecuteTime": {
     "end_time": "2024-06-26T12:03:03.190801481Z",
     "start_time": "2024-06-26T12:03:03.157314454Z"
    }
   },
   "id": "bb3812f256722fbb",
   "execution_count": 8
  },
  {
   "cell_type": "code",
   "outputs": [],
   "source": [
    "UPPER_LIMIT = 11  ## change ca pour diminuer la consommation de memoire.\n",
    "B = 16\n",
    "L = 100\n",
    "D = 300\n",
    "x_vals = [10000 * i for i in range(1, UPPER_LIMIT)]"
   ],
   "metadata": {
    "collapsed": false,
    "ExecuteTime": {
     "end_time": "2024-06-26T12:03:03.191302889Z",
     "start_time": "2024-06-26T12:03:03.179657649Z"
    }
   },
   "id": "104726b9a3bfed79",
   "execution_count": 9
  },
  {
   "cell_type": "code",
   "outputs": [],
   "source": [
    "configs = []\n",
    "\n",
    "configs.append(\n",
    "    triton.testing.Benchmark(\n",
    "        x_names=[\"V\"],  # Argument names to use as an x-axis for the plot\n",
    "        x_vals=x_vals,  # Different possible values for `x_name`\n",
    "        line_arg=\"provider\",  # Argument name whose value corresponds to a different line in the plot\n",
    "        # Possible values for `line_arg`\n",
    "        # Don't compare to cublas for fp8 cases as torch.matmul doesn't support fp8 at the moment.\n",
    "        line_vals= [\"with_iteration\", \"without_iteration\"],  # Label name for the lines\n",
    "        line_names= [\"with_iteration\", \"without_iteration\"],  # Line styles\n",
    "        styles=[(\"green\", \"-\"), (\"blue\", \"-\")],\n",
    "        ylabel=\"GB/s\",  # Label name for the y-axis\n",
    "        plot_name=\"relu_max_backward_performance\",\n",
    "        args={'B' : B, 'L' : L, 'D': D},\n",
    "    ))"
   ],
   "metadata": {
    "collapsed": false,
    "ExecuteTime": {
     "end_time": "2024-06-26T12:03:03.191566603Z",
     "start_time": "2024-06-26T12:03:03.182437543Z"
    }
   },
   "id": "e980c89b68e6181f",
   "execution_count": 10
  },
  {
   "cell_type": "code",
   "outputs": [],
   "source": [
    "@triton.testing.perf_report(configs)\n",
    "def benchmark(B, L, D, V, provider):\n",
    "    x = torch.randn(B, L, D, requires_grad=True, dtype=torch.float64, device='cuda')\n",
    "    w = torch.randn(D, V, requires_grad=True, dtype=torch.float64, device='cuda')\n",
    "    b = -torch.sqrt(-2 * torch.log(torch.tensor(0.005, device='cuda').repeat(V))) * 21\n",
    "    list_lengths = torch.randint(0, L, [B])\n",
    "    mask = torch.ones(B, L).cuda()\n",
    "    for i, l in enumerate(list_lengths):\n",
    "        mask[i, l:] = 0\n",
    "    \n",
    "    quantiles = [0.5, 0.2, 0.8]\n",
    "    \n",
    "    print(f'---------- V : {V}\\tprovider : {provider} ----------')\n",
    "    if provider == 'without_iteration':\n",
    "        ms, min_ms, max_ms = triton.testing.do_bench(lambda: OptimForward.apply(x, w, b, mask), quantiles=quantiles)\n",
    "        \n",
    "    if provider == 'with_iteration':\n",
    "        ms, min_ms, max_ms = triton.testing.do_bench(lambda: OptimReluMaxLinear.apply(x, w, b, mask) , quantiles=quantiles)\n",
    "    \n",
    "    gbps = lambda ms: 8 * (B * L * D + D * V + V) / (ms * 1e-3) / (1024 ** 3)\n",
    "    return gbps(ms), gbps(max_ms), gbps(min_ms)\n",
    "        "
   ],
   "metadata": {
    "collapsed": false,
    "ExecuteTime": {
     "end_time": "2024-06-26T12:03:03.229389434Z",
     "start_time": "2024-06-26T12:03:03.188718214Z"
    }
   },
   "id": "b62f03bbcc8718e2",
   "execution_count": 11
  },
  {
   "cell_type": "code",
   "outputs": [
    {
     "name": "stdout",
     "output_type": "stream",
     "text": [
      "---------- V : 10000\tprovider : with_iteration ----------\n",
      "---------- V : 10000\tprovider : without_iteration ----------\n",
      "---------- V : 20000\tprovider : with_iteration ----------\n",
      "---------- V : 20000\tprovider : without_iteration ----------\n",
      "---------- V : 30000\tprovider : with_iteration ----------\n",
      "---------- V : 30000\tprovider : without_iteration ----------\n",
      "---------- V : 40000\tprovider : with_iteration ----------\n",
      "---------- V : 40000\tprovider : without_iteration ----------\n",
      "---------- V : 50000\tprovider : with_iteration ----------\n",
      "---------- V : 50000\tprovider : without_iteration ----------\n",
      "---------- V : 60000\tprovider : with_iteration ----------\n",
      "---------- V : 60000\tprovider : without_iteration ----------\n",
      "---------- V : 70000\tprovider : with_iteration ----------\n",
      "---------- V : 70000\tprovider : without_iteration ----------\n",
      "---------- V : 80000\tprovider : with_iteration ----------\n",
      "---------- V : 80000\tprovider : without_iteration ----------\n",
      "---------- V : 90000\tprovider : with_iteration ----------\n",
      "---------- V : 90000\tprovider : without_iteration ----------\n",
      "---------- V : 100000\tprovider : with_iteration ----------\n",
      "---------- V : 100000\tprovider : without_iteration ----------\n"
     ]
    },
    {
     "data": {
      "text/plain": "<Figure size 640x480 with 1 Axes>",
      "image/png": "[encoded data removed]"
     },
     "metadata": {},
     "output_type": "display_data"
    },
    {
     "name": "stdout",
     "output_type": "stream",
     "text": [
      "relu_max_backward_performance:\n",
      "          V  with_iteration  without_iteration\n",
      "0   10000.0        0.601824           0.764691\n",
      "1   20000.0        0.521568           0.708329\n",
      "2   30000.0        0.508790           0.695553\n",
      "3   40000.0        0.537180           0.689069\n",
      "4   50000.0        0.520700           0.685063\n",
      "5   60000.0        0.520558           0.681105\n",
      "6   70000.0        0.528012           0.679336\n",
      "7   80000.0        0.521865           0.677672\n",
      "8   90000.0        0.490698           0.675890\n",
      "9  100000.0        0.507342           0.675202\n"
     ]
    }
   ],
   "source": [
    "benchmark.run(show_plots=True, print_data=True)"
   ],
   "metadata": {
    "collapsed": false,
    "ExecuteTime": {
     "end_time": "2024-06-26T12:03:38.322730255Z",
     "start_time": "2024-06-26T12:03:03.229287545Z"
    }
   },
   "id": "ac9c81b9882ce721",
   "execution_count": 12
  }
 ],
 "metadata": {
  "kernelspec": {
   "display_name": "Python 3",
   "language": "python",
   "name": "python3"
  },
  "language_info": {
   "codemirror_mode": {
    "name": "ipython",
    "version": 2
   },
   "file_extension": ".py",
   "mimetype": "text/x-python",
   "name": "python",
   "nbconvert_exporter": "python",
   "pygments_lexer": "ipython2",
   "version": "2.7.6"
  }
 },
 "nbformat": 4,
 "nbformat_minor": 5
}
