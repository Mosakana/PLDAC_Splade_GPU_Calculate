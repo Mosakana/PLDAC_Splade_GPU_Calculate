{
 "cells": [
  {
   "cell_type": "code",
   "execution_count": 1,
   "id": "initial_id",
   "metadata": {
    "collapsed": true,
    "ExecuteTime": {
     "end_time": "2024-06-25T20:05:17.377567964Z",
     "start_time": "2024-06-25T20:05:16.634303838Z"
    }
   },
   "outputs": [],
   "source": [
    "from optim_relu_max_linear_v import OptimReluMaxLinearV\n",
    "from check_grad_optim_v import test_optim_splade_model\n",
    "import triton\n",
    "import torch\n",
    "import os\n",
    "os.environ['CUDA_LAUNCH_BLOCKING'] = '1'"
   ]
  },
  {
   "cell_type": "code",
   "execution_count": 2,
   "id": "82f9c9b268a9a9d8",
   "metadata": {
    "collapsed": false,
    "ExecuteTime": {
     "end_time": "2024-06-25T20:05:17.419938639Z",
     "start_time": "2024-06-25T20:05:17.418483391Z"
    }
   },
   "outputs": [
    {
     "data": {
      "text/plain": "True"
     },
     "execution_count": 2,
     "metadata": {},
     "output_type": "execute_result"
    }
   ],
   "source": [
    "torch.cuda.is_available()"
   ]
  },
  {
   "cell_type": "code",
   "outputs": [
    {
     "name": "stdout",
     "output_type": "stream",
     "text": [
      "tensor(0.0046, device='cuda:0')\n"
     ]
    }
   ],
   "source": [
    "B = 16\n",
    "L = 100\n",
    "D = 300\n",
    "V = 100000\n",
    "x = torch.randn(B, L, D, requires_grad=True, dtype=torch.float64, device='cuda')\n",
    "w = torch.randn(D, V, requires_grad=True, dtype=torch.float64, device='cuda')\n",
    "b = -torch.sqrt(-2 * torch.log(torch.tensor(0.005, device='cuda').repeat(V))) * 21\n",
    "\n",
    "res = x @ w + b.reshape(1, 1, *b.shape).max(axis=1)[0]\n",
    "print((res > 0).sum() / (B * V))"
   ],
   "metadata": {
    "collapsed": false,
    "ExecuteTime": {
     "end_time": "2024-06-25T20:05:18.021919920Z",
     "start_time": "2024-06-25T20:05:17.419001055Z"
    }
   },
   "id": "f8f89bde8573775d",
   "execution_count": 3
  },
  {
   "cell_type": "code",
   "execution_count": 4,
   "id": "4d80423ce9147901",
   "metadata": {
    "collapsed": false,
    "ExecuteTime": {
     "end_time": "2024-06-25T20:05:18.029511447Z",
     "start_time": "2024-06-25T20:05:18.022750648Z"
    }
   },
   "outputs": [],
   "source": [
    "UPPER_LIMIT = 11  ## change ca pour diminuer la consommation de memoire.\n",
    "B = 16\n",
    "L = 100\n",
    "D = 200\n",
    "x_vals = [10000 * i for i in range(1, UPPER_LIMIT)]"
   ]
  },
  {
   "cell_type": "code",
   "execution_count": 5,
   "id": "f6f0f29253a12a65",
   "metadata": {
    "collapsed": false,
    "ExecuteTime": {
     "end_time": "2024-06-25T20:05:18.034006102Z",
     "start_time": "2024-06-25T20:05:18.024683534Z"
    }
   },
   "outputs": [
    {
     "name": "stdout",
     "output_type": "stream",
     "text": [
      "[10000, 20000, 30000, 40000, 50000, 60000, 70000, 80000, 90000, 100000]\n"
     ]
    }
   ],
   "source": [
    "print(x_vals)"
   ]
  },
  {
   "cell_type": "code",
   "execution_count": 6,
   "id": "af71709b893bc49c",
   "metadata": {
    "collapsed": false,
    "ExecuteTime": {
     "end_time": "2024-06-25T20:05:18.038387539Z",
     "start_time": "2024-06-25T20:05:18.034000942Z"
    }
   },
   "outputs": [],
   "source": [
    "configs = []\n",
    "\n",
    "configs.append(\n",
    "    triton.testing.Benchmark(\n",
    "        x_names=[\"V\"],  # Argument names to use as an x-axis for the plot\n",
    "        x_vals=x_vals,  # Different possible values for `x_name`\n",
    "        line_arg=\"provider\",  # Argument name whose value corresponds to a different line in the plot\n",
    "        # Possible values for `line_arg`\n",
    "        # Don't compare to cublas for fp8 cases as torch.matmul doesn't support fp8 at the moment.\n",
    "        line_vals= [\"torch\", \"triton\"],  # Label name for the lines\n",
    "        line_names= [\"torch\", \"Triton\"],  # Line styles\n",
    "        styles=[(\"green\", \"-\"), (\"blue\", \"-\")],\n",
    "        ylabel=\"GB/s\",  # Label name for the y-axis\n",
    "        plot_name=\"relu_max_backward_performance\",\n",
    "        args={'B' : B, 'L' : L, 'D': D},\n",
    "    ))\n"
   ]
  },
  {
   "cell_type": "code",
   "execution_count": 7,
   "id": "b87be1a52d8318c5",
   "metadata": {
    "collapsed": false,
    "ExecuteTime": {
     "end_time": "2024-06-25T20:05:18.091599461Z",
     "start_time": "2024-06-25T20:05:18.040205790Z"
    }
   },
   "outputs": [],
   "source": [
    "@triton.testing.perf_report(configs)\n",
    "def benchmark(V, B, L, D, provider):\n",
    "    x = torch.randn(B, L, D, requires_grad=True, dtype=torch.float64, device='cuda')\n",
    "    w = torch.randn(D, V, requires_grad=True, dtype=torch.float64, device='cuda')\n",
    "    b = -torch.sqrt(-2 * torch.log(torch.tensor(0.005, device='cuda').repeat(V))) * 21\n",
    "    \n",
    "    list_lengths = torch.randint(0, L, [B])\n",
    "    \n",
    "    mask = torch.ones(B, L).cuda()\n",
    "    for i, l in enumerate(list_lengths):\n",
    "        mask[i, l:] = 0\n",
    "        \n",
    "    quantiles = [0.5, 0.2, 0.8]\n",
    "    \n",
    "    print(f'---------- V : {V}\\tprovider : {provider} ----------')\n",
    "    \n",
    "    if provider == 'torch':\n",
    "        mask_inf = torch.where(mask == 1, 0, -torch.inf)\n",
    "        \n",
    "        relu = torch.nn.ReLU()  \n",
    "        torch_calculation = relu(torch.max((x @ w) + b.reshape(1, 1, *b.shape) + mask_inf.reshape(*mask_inf.shape, 1), dim=1)[0])\n",
    "        ms, min_ms, max_ms = triton.testing.do_bench(lambda: torch_calculation.sum().backward(retain_graph=True), quantiles=quantiles)\n",
    "    if provider == 'triton':\n",
    "        triton_calculation = OptimReluMaxLinearV.apply(x, w, b, mask)[0]\n",
    "        ms, min_ms, max_ms = triton.testing.do_bench(lambda: triton_calculation.sum().backward(retain_graph=True) , quantiles=quantiles)\n",
    "    gbps = lambda ms: 8 * (B * L * D + D * V + V) / (ms * 1e-3) / (1024 ** 3)\n",
    "    return gbps(ms), gbps(max_ms), gbps(min_ms)"
   ]
  },
  {
   "cell_type": "code",
   "execution_count": 8,
   "id": "63c3a391bff2fa3f",
   "metadata": {
    "collapsed": false,
    "ExecuteTime": {
     "end_time": "2024-06-25T20:05:44.423434051Z",
     "start_time": "2024-06-25T20:05:18.082521272Z"
    }
   },
   "outputs": [
    {
     "name": "stdout",
     "output_type": "stream",
     "text": [
      "---------- V : 10000\tprovider : torch ----------\n",
      "---------- V : 10000\tprovider : triton ----------\n",
      "---------- V : 20000\tprovider : torch ----------\n",
      "---------- V : 20000\tprovider : triton ----------\n",
      "---------- V : 30000\tprovider : torch ----------\n",
      "---------- V : 30000\tprovider : triton ----------\n",
      "---------- V : 40000\tprovider : torch ----------\n",
      "---------- V : 40000\tprovider : triton ----------\n",
      "---------- V : 50000\tprovider : torch ----------\n",
      "---------- V : 50000\tprovider : triton ----------\n",
      "---------- V : 60000\tprovider : torch ----------\n",
      "---------- V : 60000\tprovider : triton ----------\n",
      "---------- V : 70000\tprovider : torch ----------\n",
      "---------- V : 70000\tprovider : triton ----------\n",
      "---------- V : 80000\tprovider : torch ----------\n",
      "---------- V : 80000\tprovider : triton ----------\n",
      "---------- V : 90000\tprovider : torch ----------\n",
      "---------- V : 90000\tprovider : triton ----------\n",
      "---------- V : 100000\tprovider : torch ----------\n",
      "---------- V : 100000\tprovider : triton ----------\n"
     ]
    },
    {
     "data": {
      "text/plain": "<Figure size 640x480 with 1 Axes>",
      "image/png": "[encoded data removed]"
     },
     "metadata": {},
     "output_type": "display_data"
    },
    {
     "name": "stdout",
     "output_type": "stream",
     "text": [
      "relu_max_backward_performance:\n",
      "          V     torch     Triton\n",
      "0   10000.0  0.357228  13.010730\n",
      "1   20000.0  0.333597  12.521034\n",
      "2   30000.0  0.298984  16.043085\n",
      "3   40000.0  0.324278  17.389081\n",
      "4   50000.0  0.322458  19.638647\n",
      "5   60000.0  0.322684  22.020866\n",
      "6   70000.0  0.321663  19.946852\n",
      "7   80000.0  0.319969  21.179923\n",
      "8   90000.0  0.320539  20.627486\n",
      "9  100000.0  0.318189  20.421283\n"
     ]
    }
   ],
   "source": [
    "benchmark.run(show_plots=True, print_data=True)"
   ]
  },
  {
   "cell_type": "code",
   "execution_count": 8,
   "id": "ffaebe55e449db86",
   "metadata": {
    "collapsed": false,
    "ExecuteTime": {
     "end_time": "2024-06-25T20:05:44.432519996Z",
     "start_time": "2024-06-25T20:05:44.424991596Z"
    }
   },
   "outputs": [],
   "source": [
    " "
   ]
  },
  {
   "cell_type": "code",
   "execution_count": 8,
   "id": "fa4757673ecf60af",
   "metadata": {
    "collapsed": false,
    "ExecuteTime": {
     "end_time": "2024-06-25T20:05:44.432828163Z",
     "start_time": "2024-06-25T20:05:44.426519247Z"
    }
   },
   "outputs": [],
   "source": []
  }
 ],
 "metadata": {
  "kernelspec": {
   "display_name": "Python 3",
   "language": "python",
   "name": "python3"
  },
  "language_info": {
   "codemirror_mode": {
    "name": "ipython",
    "version": 3
   },
   "file_extension": ".py",
   "mimetype": "text/x-python",
   "name": "python",
   "nbconvert_exporter": "python",
   "pygments_lexer": "ipython3",
   "version": "3.12.3"
  }
 },
 "nbformat": 4,
 "nbformat_minor": 5
}
