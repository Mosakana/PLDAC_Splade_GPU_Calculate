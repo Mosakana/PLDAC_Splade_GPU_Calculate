{
 "cells": [
  {
   "cell_type": "code",
   "execution_count": 1,
   "id": "initial_id",
   "metadata": {
    "collapsed": true,
    "ExecuteTime": {
     "end_time": "2024-06-24T08:07:40.197652021Z",
     "start_time": "2024-06-24T08:07:39.339529187Z"
    }
   },
   "outputs": [],
   "source": [
    "from optim_relu_max_linear import OptimReluMaxLinear\n",
    "from check_grad_optim_relu_max_linear import test_optim_splade_model\n",
    "import triton\n",
    "import torch"
   ]
  },
  {
   "cell_type": "code",
   "outputs": [
    {
     "name": "stdout",
     "output_type": "stream",
     "text": [
      "tensor(0.0451, device='cuda:0')\n"
     ]
    }
   ],
   "source": [
    "B = 16\n",
    "L = 100\n",
    "D = 300\n",
    "V = 10000\n",
    "\n",
    "x = torch.randn(B, L, D, requires_grad=True, dtype=torch.float64, device='cuda')\n",
    "w = torch.randn(D, V, requires_grad=True, dtype=torch.float64, device='cuda')\n",
    "b = -torch.sqrt(-2 * torch.log(torch.tensor(0.05, device='cuda').repeat(V))) * 12\n",
    "\n",
    "res = x @ w + b.reshape(1, 1, *b.shape)\n",
    "print((res > 0).sum() / (B * L * V))"
   ],
   "metadata": {
    "collapsed": false,
    "ExecuteTime": {
     "end_time": "2024-06-24T08:07:40.520740868Z",
     "start_time": "2024-06-24T08:07:40.195771746Z"
    }
   },
   "id": "b2173c726e601418",
   "execution_count": 2
  },
  {
   "cell_type": "code",
   "outputs": [],
   "source": [
    "UPPER_LIMIT = 11  ## change ca pour diminuer la consommation de memoire.\n",
    "B = 16\n",
    "L = 100\n",
    "D = 300\n",
    "x_vals = [10000 * i for i in range(1, UPPER_LIMIT)]"
   ],
   "metadata": {
    "collapsed": false,
    "ExecuteTime": {
     "end_time": "2024-06-24T08:07:40.521503418Z",
     "start_time": "2024-06-24T08:07:40.515655151Z"
    }
   },
   "id": "7b1e099f876e7d1c",
   "execution_count": 3
  },
  {
   "cell_type": "code",
   "execution_count": 4,
   "id": "f74afede1278af4e",
   "metadata": {
    "collapsed": false,
    "ExecuteTime": {
     "end_time": "2024-06-24T08:07:40.975436342Z",
     "start_time": "2024-06-24T08:07:40.972408943Z"
    }
   },
   "outputs": [],
   "source": [
    "configs = []\n",
    "\n",
    "configs.append(\n",
    "    triton.testing.Benchmark(\n",
    "        x_names=[\"V\"],  # Argument names to use as an x-axis for the plot\n",
    "        x_vals=x_vals,  # Different possible values for `x_name`\n",
    "        line_arg=\"provider\",  # Argument name whose value corresponds to a different line in the plot\n",
    "        # Possible values for `line_arg`\n",
    "        # Don't compare to cublas for fp8 cases as torch.matmul doesn't support fp8 at the moment.\n",
    "        line_vals= [\"torch\", \"triton\"],  # Label name for the lines\n",
    "        line_names= [\"torch\", \"Triton\"],  # Line styles\n",
    "        styles=[(\"green\", \"-\"), (\"blue\", \"-\")],\n",
    "        ylabel=\"GB/s\",  # Label name for the y-axis\n",
    "        plot_name=\"relu_max_backward_performance\",\n",
    "        args={'B' : B, 'L' : L, 'D': D},\n",
    "    ))\n"
   ]
  },
  {
   "cell_type": "code",
   "execution_count": 5,
   "id": "8b01d31210609704",
   "metadata": {
    "collapsed": false,
    "ExecuteTime": {
     "end_time": "2024-06-24T08:07:41.432402881Z",
     "start_time": "2024-06-24T08:07:41.424115268Z"
    }
   },
   "outputs": [],
   "source": [
    "@triton.testing.perf_report(configs)\n",
    "def benchmark(B, L, D, V, provider):\n",
    "    x = torch.randn(B, L, D, requires_grad=True, dtype=torch.float64, device='cuda')\n",
    "    w = torch.randn(D, V, requires_grad=True, dtype=torch.float64, device='cuda')\n",
    "    b = -torch.sqrt(-2 * torch.log(torch.tensor(0.05, device='cuda').repeat(V))) * 12\n",
    "    list_lengths = torch.randint(0, L, [B])\n",
    "    mask = torch.ones(B, L).cuda()\n",
    "    for i, l in enumerate(list_lengths):\n",
    "        mask[i, l:] = 0\n",
    "        \n",
    "    mask_inf = torch.where(mask == 1, 0, -torch.inf)\n",
    "    relu = torch.nn.ReLU()\n",
    "    \n",
    "    quantiles = [0.5, 0.2, 0.8]\n",
    "    \n",
    "    print(f'---------- V : {V}\\tprovider : {provider} ----------')\n",
    "    if provider == 'torch':\n",
    "        torch_calculation = relu(torch.max((x @ w) + b.reshape(1, 1, *b.shape) + mask_inf.reshape(*mask_inf.shape, 1), dim=1)[0])\n",
    "        ms, min_ms, max_ms = triton.testing.do_bench(lambda: torch_calculation.sum().backward(retain_graph=True), quantiles=quantiles)\n",
    "    if provider == 'triton':\n",
    "        triton_calculation = OptimReluMaxLinear.apply(x, w, b, mask)[0]\n",
    "        ms, min_ms, max_ms = triton.testing.do_bench(lambda: triton_calculation.sum().backward(retain_graph=True) , quantiles=quantiles)\n",
    "    gbps = lambda ms: 8 * (B * L * D + D * V + V) / (ms * 1e-3) / (1024 ** 3)\n",
    "    return gbps(ms), gbps(max_ms), gbps(min_ms)"
   ]
  },
  {
   "cell_type": "code",
   "outputs": [
    {
     "name": "stdout",
     "output_type": "stream",
     "text": [
      "---------- V : 10000\tprovider : torch ----------\n",
      "---------- V : 10000\tprovider : triton ----------\n",
      "---------- V : 20000\tprovider : torch ----------\n",
      "---------- V : 20000\tprovider : triton ----------\n",
      "---------- V : 30000\tprovider : torch ----------\n",
      "---------- V : 30000\tprovider : triton ----------\n",
      "---------- V : 40000\tprovider : torch ----------\n",
      "---------- V : 40000\tprovider : triton ----------\n",
      "---------- V : 50000\tprovider : torch ----------\n",
      "---------- V : 50000\tprovider : triton ----------\n",
      "---------- V : 60000\tprovider : torch ----------\n",
      "---------- V : 60000\tprovider : triton ----------\n",
      "---------- V : 70000\tprovider : torch ----------\n",
      "---------- V : 70000\tprovider : triton ----------\n",
      "---------- V : 80000\tprovider : torch ----------\n",
      "---------- V : 80000\tprovider : triton ----------\n",
      "---------- V : 90000\tprovider : torch ----------\n",
      "---------- V : 90000\tprovider : triton ----------\n",
      "---------- V : 100000\tprovider : torch ----------\n",
      "---------- V : 100000\tprovider : triton ----------\n"
     ]
    },
    {
     "data": {
      "text/plain": "<Figure size 640x480 with 1 Axes>",
      "image/png": "[encoded data removed]"
     },
     "metadata": {},
     "output_type": "display_data"
    },
    {
     "name": "stdout",
     "output_type": "stream",
     "text": [
      "relu_max_backward_performance:\n",
      "          V     torch    Triton\n",
      "0   10000.0  0.387450  0.335568\n",
      "1   20000.0  0.363787  0.244031\n",
      "2   30000.0  0.353285  0.235342\n",
      "3   40000.0  0.348945  0.247176\n",
      "4   50000.0  0.343332  0.226906\n",
      "5   60000.0  0.344494  0.253057\n",
      "6   70000.0  0.342449  0.279249\n",
      "7   80000.0  0.342085  0.229516\n",
      "8   90000.0  0.341222  0.248490\n",
      "9  100000.0  0.340703  0.238763\n"
     ]
    }
   ],
   "source": [
    "benchmark.run(show_plots=True, print_data=True)"
   ],
   "metadata": {
    "collapsed": false,
    "ExecuteTime": {
     "end_time": "2024-06-24T08:13:24.033051254Z",
     "start_time": "2024-06-24T08:07:41.922837488Z"
    }
   },
   "id": "49797b0e8ba810cb",
   "execution_count": 6
  },
  {
   "cell_type": "code",
   "execution_count": null,
   "id": "e7ae83b4e6d4834d",
   "metadata": {
    "collapsed": false
   },
   "outputs": [],
   "source": []
  }
 ],
 "metadata": {
  "kernelspec": {
   "display_name": "Python 3",
   "language": "python",
   "name": "python3"
  },
  "language_info": {
   "codemirror_mode": {
    "name": "ipython",
    "version": 3
   },
   "file_extension": ".py",
   "mimetype": "text/x-python",
   "name": "python",
   "nbconvert_exporter": "python",
   "pygments_lexer": "ipython3",
   "version": "3.12.3"
  }
 },
 "nbformat": 4,
 "nbformat_minor": 5
}
