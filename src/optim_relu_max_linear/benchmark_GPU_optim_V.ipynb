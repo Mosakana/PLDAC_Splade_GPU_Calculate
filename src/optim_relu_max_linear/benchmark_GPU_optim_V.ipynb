{
 "cells": [
  {
   "cell_type": "code",
   "execution_count": 1,
   "id": "initial_id",
   "metadata": {
    "collapsed": true,
    "ExecuteTime": {
     "end_time": "2024-05-09T23:10:08.828675441Z",
     "start_time": "2024-05-09T23:10:05.182774817Z"
    }
   },
   "outputs": [],
   "source": [
    "from optim_relu_max_linear import OptimReluMaxLinear\n",
    "from check_grad_optim_v import test_optim_splade_model\n",
    "import triton\n",
    "import torch"
   ]
  },
  {
   "cell_type": "code",
   "outputs": [],
   "source": [
    "test_optim_splade_model()"
   ],
   "metadata": {
    "collapsed": false
   },
   "id": "ed39c9bafc8e0e35"
  },
  {
   "cell_type": "code",
   "outputs": [],
   "source": [
    "x_vals = []\n",
    "for i in range(1, 11):\n",
    "    x_vals.append([2000 * i, 64, 32, 300])"
   ],
   "metadata": {
    "collapsed": false,
    "ExecuteTime": {
     "end_time": "2024-05-09T23:10:09.624688562Z",
     "start_time": "2024-05-09T23:10:09.610200035Z"
    }
   },
   "id": "4d80423ce9147901",
   "execution_count": 2
  },
  {
   "cell_type": "code",
   "outputs": [],
   "source": [
    "configs = []\n",
    "\n",
    "configs.append(\n",
    "    triton.testing.Benchmark(\n",
    "        x_names=[\"V\", \"B\", \"L\", \"D\"],  # Argument names to use as an x-axis for the plot\n",
    "        x_vals=x_vals,  # Different possible values for `x_name`\n",
    "        line_arg=\"provider\",  # Argument name whose value corresponds to a different line in the plot\n",
    "        # Possible values for `line_arg`\n",
    "        # Don't compare to cublas for fp8 cases as torch.matmul doesn't support fp8 at the moment.\n",
    "        line_vals= [\"torch\", \"triton\"],  # Label name for the lines\n",
    "        line_names= [\"torch\", \"Triton\"],  # Line styles\n",
    "        styles=[(\"green\", \"-\"), (\"blue\", \"-\")],\n",
    "        ylabel=\"GB/s\",  # Label name for the y-axis\n",
    "        plot_name=\"relu_max_backward_performance\",\n",
    "        args={},\n",
    "    ))\n"
   ],
   "metadata": {
    "collapsed": false,
    "ExecuteTime": {
     "end_time": "2024-05-09T23:10:09.967503071Z",
     "start_time": "2024-05-09T23:10:09.961460420Z"
    }
   },
   "id": "af71709b893bc49c",
   "execution_count": 3
  },
  {
   "cell_type": "code",
   "outputs": [],
   "source": [
    "@triton.testing.perf_report(configs)\n",
    "def benchmark(B, L, D, V, provider):\n",
    "    x = torch.randn(B, L, D, requires_grad=True, dtype=torch.float64, device='cuda')\n",
    "    w = torch.randn(D, V, requires_grad=True, dtype=torch.float64, device='cuda')\n",
    "    b = torch.randn(V, requires_grad=True, dtype=torch.float64, device='cuda')\n",
    "    list_lengths = torch.randint(0, L, [B])\n",
    "    mask = torch.ones(B, L).cuda()\n",
    "    for i, l in enumerate(list_lengths):\n",
    "        mask[i, l:] = 0\n",
    "        \n",
    "    mask_inf = torch.where(mask == 1, 0, -torch.inf)\n",
    "    relu = torch.nn.ReLU()\n",
    "    \n",
    "    torch_calculation = relu(torch.max((x @ w) + b.reshape(1, 1, *b.shape) + mask_inf.reshape(*mask_inf.shape, 1), dim=1)[0])\n",
    "    triton_calculation = OptimReluMaxLinear.apply(x, w, b, mask)[0]\n",
    "        \n",
    "    quantiles = [0.5, 0.2, 0.8]\n",
    "    if provider == 'torch':\n",
    "        ms, min_ms, max_ms = triton.testing.do_bench(lambda: torch_calculation.sum().backward(retain_graph=True), quantiles=quantiles)\n",
    "    if provider == 'triton':\n",
    "        ms, min_ms, max_ms = triton.testing.do_bench(lambda: triton_calculation.sum().backward(retain_graph=True) , quantiles=quantiles)\n",
    "    gbps = lambda ms: B * L * D * V / (ms * 1e-3)\n",
    "    return gbps(ms), gbps(max_ms), gbps(min_ms)"
   ],
   "metadata": {
    "collapsed": false,
    "ExecuteTime": {
     "end_time": "2024-05-09T23:10:10.359040986Z",
     "start_time": "2024-05-09T23:10:10.353799849Z"
    }
   },
   "id": "b87be1a52d8318c5",
   "execution_count": 4
  },
  {
   "cell_type": "code",
   "outputs": [
    {
     "data": {
      "text/plain": "<Figure size 640x480 with 1 Axes>",
      "image/png": "[encoded data removed]"
     },
     "metadata": {},
     "output_type": "display_data"
    },
    {
     "name": "stdout",
     "output_type": "stream",
     "text": [
      "relu_max_backward_performance:\n",
      "         V     B     L      D         torch        Triton\n",
      "0   2000.0  64.0  32.0  300.0  6.508640e+10  8.533394e+09\n",
      "1   4000.0  64.0  32.0  300.0  6.849700e+10  8.252272e+09\n",
      "2   6000.0  64.0  32.0  300.0  6.858082e+10  8.380474e+09\n",
      "3   8000.0  64.0  32.0  300.0  7.006481e+10  8.079462e+09\n",
      "4  10000.0  64.0  32.0  300.0  6.994719e+10  8.274310e+09\n",
      "5  12000.0  64.0  32.0  300.0  6.908264e+10  8.350769e+09\n",
      "6  14000.0  64.0  32.0  300.0  7.031525e+10  8.159127e+09\n",
      "7  16000.0  64.0  32.0  300.0  7.023088e+10  7.818423e+09\n",
      "8  18000.0  64.0  32.0  300.0  6.969135e+10  8.027018e+09\n",
      "9  20000.0  64.0  32.0  300.0  7.022020e+10  8.140588e+09\n"
     ]
    }
   ],
   "source": [
    "benchmark.run(show_plots=True, print_data=True)"
   ],
   "metadata": {
    "collapsed": false,
    "ExecuteTime": {
     "end_time": "2024-05-09T23:20:33.728230939Z",
     "start_time": "2024-05-09T23:10:10.820335747Z"
    }
   },
   "id": "63c3a391bff2fa3f",
   "execution_count": 5
  },
  {
   "cell_type": "code",
   "outputs": [],
   "source": [],
   "metadata": {
    "collapsed": false
   },
   "id": "ffaebe55e449db86"
  }
 ],
 "metadata": {
  "kernelspec": {
   "display_name": "Python 3",
   "language": "python",
   "name": "python3"
  },
  "language_info": {
   "codemirror_mode": {
    "name": "ipython",
    "version": 2
   },
   "file_extension": ".py",
   "mimetype": "text/x-python",
   "name": "python",
   "nbconvert_exporter": "python",
   "pygments_lexer": "ipython2",
   "version": "2.7.6"
  }
 },
 "nbformat": 4,
 "nbformat_minor": 5
}
