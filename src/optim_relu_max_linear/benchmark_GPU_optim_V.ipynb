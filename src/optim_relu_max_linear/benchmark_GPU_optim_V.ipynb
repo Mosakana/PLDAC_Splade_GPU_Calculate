{
 "cells": [
  {
   "cell_type": "code",
   "execution_count": 1,
   "id": "initial_id",
   "metadata": {
    "ExecuteTime": {
     "end_time": "2024-05-10T20:54:16.632097797Z",
     "start_time": "2024-05-10T20:54:15.939889719Z"
    },
    "collapsed": true
   },
   "outputs": [],
   "source": [
    "from optim_relu_max_linear import OptimReluMaxLinear\n",
    "from check_grad_optim_v import test_optim_splade_model\n",
    "import triton\n",
    "import torch"
   ]
  },
  {
   "cell_type": "code",
   "execution_count": 2,
   "id": "82f9c9b268a9a9d8",
   "metadata": {
    "ExecuteTime": {
     "end_time": "2024-05-10T20:54:17.543391977Z",
     "start_time": "2024-05-10T20:54:17.538015239Z"
    },
    "collapsed": false
   },
   "outputs": [
    {
     "data": {
      "text/plain": [
       "True"
      ]
     },
     "execution_count": 2,
     "metadata": {},
     "output_type": "execute_result"
    }
   ],
   "source": [
    "torch.cuda.is_available()"
   ]
  },
  {
   "cell_type": "code",
   "execution_count": null,
   "id": "ed39c9bafc8e0e35",
   "metadata": {
    "ExecuteTime": {
     "end_time": "2024-05-10T21:02:44.329909995Z",
     "start_time": "2024-05-10T20:54:18.400218260Z"
    },
    "collapsed": false
   },
   "outputs": [],
   "source": [
    "test_optim_splade_model() # oblie ca, elle prend du temps"
   ]
  },
  {
   "cell_type": "code",
   "execution_count": 3,
   "id": "4d80423ce9147901",
   "metadata": {
    "ExecuteTime": {
     "end_time": "2024-05-10T21:22:54.907959943Z",
     "start_time": "2024-05-10T21:22:54.861069111Z"
    },
    "collapsed": false
   },
   "outputs": [],
   "source": [
    "UPPER_LIMIT = 11  ## change ca pour diminuer la consommation de memoire.\n",
    "x_vals = [64 * i for i in range(1, UPPER_LIMIT)]"
   ]
  },
  {
   "cell_type": "code",
   "execution_count": 4,
   "id": "f6f0f29253a12a65",
   "metadata": {
    "ExecuteTime": {
     "end_time": "2024-05-10T21:23:00.246753829Z",
     "start_time": "2024-05-10T21:23:00.235900411Z"
    },
    "collapsed": false
   },
   "outputs": [
    {
     "name": "stdout",
     "output_type": "stream",
     "text": [
      "[64, 128, 192, 256, 320, 384, 448, 512, 576, 640]\n"
     ]
    }
   ],
   "source": [
    "print(x_vals)"
   ]
  },
  {
   "cell_type": "code",
   "execution_count": 5,
   "id": "af71709b893bc49c",
   "metadata": {
    "ExecuteTime": {
     "end_time": "2024-05-10T21:26:11.010833133Z",
     "start_time": "2024-05-10T21:26:10.934830817Z"
    },
    "collapsed": false
   },
   "outputs": [],
   "source": [
    "configs = []\n",
    "\n",
    "configs.append(\n",
    "    triton.testing.Benchmark(\n",
    "        x_names=[\"V\", \"B\", \"L\", \"D\"],  # Argument names to use as an x-axis for the plot\n",
    "        x_vals=x_vals,  # Different possible values for `x_name`\n",
    "        line_arg=\"provider\",  # Argument name whose value corresponds to a different line in the plot\n",
    "        # Possible values for `line_arg`\n",
    "        # Don't compare to cublas for fp8 cases as torch.matmul doesn't support fp8 at the moment.\n",
    "        line_vals= [\"torch\", \"triton\"],  # Label name for the lines\n",
    "        line_names= [\"torch\", \"Triton\"],  # Line styles\n",
    "        styles=[(\"green\", \"-\"), (\"blue\", \"-\")],\n",
    "        ylabel=\"GB/s\",  # Label name for the y-axis\n",
    "        plot_name=\"relu_max_backward_performance\",\n",
    "        args={},\n",
    "    ))\n"
   ]
  },
  {
   "cell_type": "code",
   "execution_count": 6,
   "id": "b87be1a52d8318c5",
   "metadata": {
    "ExecuteTime": {
     "end_time": "2024-05-10T21:26:11.173068952Z",
     "start_time": "2024-05-10T21:26:11.167526460Z"
    },
    "collapsed": false
   },
   "outputs": [],
   "source": [
    "@triton.testing.perf_report(configs)\n",
    "def benchmark(V, B, L, D, provider):\n",
    "    x = torch.randn(B, L, D, requires_grad=True, dtype=torch.float64, device='cuda')\n",
    "    w = torch.randn(D, V, requires_grad=True, dtype=torch.float64, device='cuda')\n",
    "    b = torch.randn(V, requires_grad=True, dtype=torch.float64, device='cuda')\n",
    "    list_lengths = torch.randint(0, L, [B])\n",
    "    mask = torch.ones(B, L).cuda()\n",
    "    for i, l in enumerate(list_lengths):\n",
    "        mask[i, l:] = 0\n",
    "        \n",
    "    mask_inf = torch.where(mask == 1, 0, -torch.inf)\n",
    "    relu = torch.nn.ReLU()\n",
    "    \n",
    "    torch_calculation = relu(torch.max((x @ w) + b.reshape(1, 1, *b.shape) + mask_inf.reshape(*mask_inf.shape, 1), dim=1)[0])\n",
    "    triton_calculation = OptimReluMaxLinear.apply(x, w, b, mask)[0]\n",
    "        \n",
    "    quantiles = [0.5, 0.2, 0.8]\n",
    "    if provider == 'torch':\n",
    "        ms, min_ms, max_ms = triton.testing.do_bench(lambda: torch_calculation.sum().backward(retain_graph=True), quantiles=quantiles)\n",
    "    if provider == 'triton':\n",
    "        ms, min_ms, max_ms = triton.testing.do_bench(lambda: triton_calculation.sum().backward(retain_graph=True) , quantiles=quantiles)\n",
    "    gbps = lambda ms: 8 * (B * L * D + D * V + V) / (ms * 1e-3) / (1024 ** 3)\n",
    "    return gbps(ms), gbps(max_ms), gbps(min_ms)"
   ]
  },
  {
   "cell_type": "code",
   "execution_count": 7,
   "id": "63c3a391bff2fa3f",
   "metadata": {
    "ExecuteTime": {
     "end_time": "2024-05-10T21:28:35.220459113Z",
     "start_time": "2024-05-10T21:26:11.380797177Z"
    },
    "collapsed": false
   },
   "outputs": [
    {
     "data": {
      "image/png": "[encoded data removed]",
      "text/plain": [
       "<Figure size 640x480 with 1 Axes>"
      ]
     },
     "metadata": {},
     "output_type": "display_data"
    },
    {
     "name": "stdout",
     "output_type": "stream",
     "text": [
      "relu_max_backward_performance:\n",
      "       V      B      L      D     torch    Triton\n",
      "0   64.0   64.0   64.0   64.0  7.658564  0.746098\n",
      "1  128.0  128.0  128.0  128.0  5.262251  1.214382\n",
      "2  192.0  192.0  192.0  192.0  3.364769  1.459693\n",
      "3  256.0  256.0  256.0  256.0  2.770377  1.607369\n",
      "4  320.0  320.0  320.0  320.0  2.298170  1.566832\n",
      "5  384.0  384.0  384.0  384.0  1.944430  1.790497\n",
      "6  448.0  448.0  448.0  448.0  1.616909  1.959288\n",
      "7  512.0  512.0  512.0  512.0  1.519298  2.135347\n",
      "8  576.0  576.0  576.0  576.0  1.305069  1.797716\n",
      "9  640.0  640.0  640.0  640.0  1.226240  1.842395\n"
     ]
    }
   ],
   "source": [
    "benchmark.run(show_plots=True, print_data=True)"
   ]
  },
  {
   "cell_type": "code",
   "execution_count": null,
   "id": "ffaebe55e449db86",
   "metadata": {
    "ExecuteTime": {
     "end_time": "2024-05-10T21:24:08.854779447Z",
     "start_time": "2024-05-10T21:24:08.800116778Z"
    },
    "collapsed": false
   },
   "outputs": [],
   "source": []
  },
  {
   "cell_type": "code",
   "execution_count": null,
   "id": "fa4757673ecf60af",
   "metadata": {
    "collapsed": false
   },
   "outputs": [],
   "source": []
  }
 ],
 "metadata": {
  "kernelspec": {
   "display_name": "Python 3",
   "language": "python",
   "name": "python3"
  },
  "language_info": {
   "codemirror_mode": {
    "name": "ipython",
    "version": 3
   },
   "file_extension": ".py",
   "mimetype": "text/x-python",
   "name": "python",
   "nbconvert_exporter": "python",
   "pygments_lexer": "ipython3",
   "version": "3.12.3"
  }
 },
 "nbformat": 4,
 "nbformat_minor": 5
}
