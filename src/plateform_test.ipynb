{
 "cells": [
  {
   "cell_type": "code",
   "execution_count": 81,
   "id": "initial_id",
   "metadata": {
    "collapsed": true,
    "ExecuteTime": {
     "end_time": "2024-04-05T09:32:55.442001200Z",
     "start_time": "2024-04-05T09:32:55.397818400Z"
    }
   },
   "outputs": [],
   "source": [
    "import torch\n",
    "from torch.nn import ReLU\n",
    "import linear_model\n",
    "from splade_model import SpladeModel"
   ]
  },
  {
   "cell_type": "code",
   "execution_count": 73,
   "outputs": [],
   "source": [
    "x = torch.tensor([[1, 2],\n",
    "                  [1, 3],\n",
    "                  [-2, 5]], dtype=torch.float64, requires_grad=True)\n",
    "\n",
    "w = torch.tensor([[5, 4],\n",
    "                  [1, 7]], dtype=torch.float64, requires_grad=True)\n",
    "\n",
    "prod = x.mm(w)\n",
    "\n",
    "max1, indice = torch.max(prod, 1)\n",
    "\n",
    "max1.sum().backward()\n"
   ],
   "metadata": {
    "collapsed": false,
    "ExecuteTime": {
     "end_time": "2024-04-04T19:23:58.212180400Z",
     "start_time": "2024-04-04T19:23:58.211677100Z"
    }
   },
   "id": "b6f0b0037847c533"
  },
  {
   "cell_type": "code",
   "execution_count": 74,
   "outputs": [
    {
     "name": "stdout",
     "output_type": "stream",
     "text": [
      "tensor([[ 7., 18.],\n",
      "        [ 8., 25.],\n",
      "        [-5., 27.]], dtype=torch.float64, grad_fn=<MmBackward0>)\n",
      "tensor([18., 25., 27.], dtype=torch.float64, grad_fn=<MaxBackward0>)\n",
      "tensor([[4., 7.],\n",
      "        [4., 7.],\n",
      "        [4., 7.]], dtype=torch.float64)\n",
      "tensor([[ 0.,  0.],\n",
      "        [ 0., 10.]], dtype=torch.float64)\n"
     ]
    }
   ],
   "source": [
    "print(prod)\n",
    "\n",
    "print(max1)\n",
    "\n",
    "print(x.grad)\n",
    "\n",
    "print(w.grad)"
   ],
   "metadata": {
    "collapsed": false,
    "ExecuteTime": {
     "end_time": "2024-04-04T19:23:59.879527400Z",
     "start_time": "2024-04-04T19:23:59.877792200Z"
    }
   },
   "id": "4976d84d12bba55"
  },
  {
   "cell_type": "code",
   "execution_count": 78,
   "outputs": [],
   "source": [
    "splade = SpladeModel.apply(x, w, None)"
   ],
   "metadata": {
    "collapsed": false,
    "ExecuteTime": {
     "end_time": "2024-04-04T19:24:40.279931600Z",
     "start_time": "2024-04-04T19:24:40.264016300Z"
    }
   },
   "id": "573ee9c4dde13ffc"
  },
  {
   "cell_type": "code",
   "execution_count": 80,
   "outputs": [
    {
     "ename": "TypeError",
     "evalue": "SpladeModel.backward() takes 2 positional arguments but 3 were given",
     "output_type": "error",
     "traceback": [
      "\u001B[1;31m---------------------------------------------------------------------------\u001B[0m",
      "\u001B[1;31mTypeError\u001B[0m                                 Traceback (most recent call last)",
      "Cell \u001B[1;32mIn[80], line 1\u001B[0m\n\u001B[1;32m----> 1\u001B[0m splade[\u001B[38;5;241m0\u001B[39m]\u001B[38;5;241m.\u001B[39msum()\u001B[38;5;241m.\u001B[39mbackward()\n",
      "File \u001B[1;32mD:\\anaconda3\\Lib\\site-packages\\torch\\_tensor.py:522\u001B[0m, in \u001B[0;36mTensor.backward\u001B[1;34m(self, gradient, retain_graph, create_graph, inputs)\u001B[0m\n\u001B[0;32m    512\u001B[0m \u001B[38;5;28;01mif\u001B[39;00m has_torch_function_unary(\u001B[38;5;28mself\u001B[39m):\n\u001B[0;32m    513\u001B[0m     \u001B[38;5;28;01mreturn\u001B[39;00m handle_torch_function(\n\u001B[0;32m    514\u001B[0m         Tensor\u001B[38;5;241m.\u001B[39mbackward,\n\u001B[0;32m    515\u001B[0m         (\u001B[38;5;28mself\u001B[39m,),\n\u001B[1;32m   (...)\u001B[0m\n\u001B[0;32m    520\u001B[0m         inputs\u001B[38;5;241m=\u001B[39minputs,\n\u001B[0;32m    521\u001B[0m     )\n\u001B[1;32m--> 522\u001B[0m torch\u001B[38;5;241m.\u001B[39mautograd\u001B[38;5;241m.\u001B[39mbackward(\n\u001B[0;32m    523\u001B[0m     \u001B[38;5;28mself\u001B[39m, gradient, retain_graph, create_graph, inputs\u001B[38;5;241m=\u001B[39minputs\n\u001B[0;32m    524\u001B[0m )\n",
      "File \u001B[1;32mD:\\anaconda3\\Lib\\site-packages\\torch\\autograd\\__init__.py:266\u001B[0m, in \u001B[0;36mbackward\u001B[1;34m(tensors, grad_tensors, retain_graph, create_graph, grad_variables, inputs)\u001B[0m\n\u001B[0;32m    261\u001B[0m     retain_graph \u001B[38;5;241m=\u001B[39m create_graph\n\u001B[0;32m    263\u001B[0m \u001B[38;5;66;03m# The reason we repeat the same comment below is that\u001B[39;00m\n\u001B[0;32m    264\u001B[0m \u001B[38;5;66;03m# some Python versions print out the first line of a multi-line function\u001B[39;00m\n\u001B[0;32m    265\u001B[0m \u001B[38;5;66;03m# calls in the traceback and some print out the last line\u001B[39;00m\n\u001B[1;32m--> 266\u001B[0m Variable\u001B[38;5;241m.\u001B[39m_execution_engine\u001B[38;5;241m.\u001B[39mrun_backward(  \u001B[38;5;66;03m# Calls into the C++ engine to run the backward pass\u001B[39;00m\n\u001B[0;32m    267\u001B[0m     tensors,\n\u001B[0;32m    268\u001B[0m     grad_tensors_,\n\u001B[0;32m    269\u001B[0m     retain_graph,\n\u001B[0;32m    270\u001B[0m     create_graph,\n\u001B[0;32m    271\u001B[0m     inputs,\n\u001B[0;32m    272\u001B[0m     allow_unreachable\u001B[38;5;241m=\u001B[39m\u001B[38;5;28;01mTrue\u001B[39;00m,\n\u001B[0;32m    273\u001B[0m     accumulate_grad\u001B[38;5;241m=\u001B[39m\u001B[38;5;28;01mTrue\u001B[39;00m,\n\u001B[0;32m    274\u001B[0m )\n",
      "File \u001B[1;32mD:\\anaconda3\\Lib\\site-packages\\torch\\autograd\\function.py:289\u001B[0m, in \u001B[0;36mBackwardCFunction.apply\u001B[1;34m(self, *args)\u001B[0m\n\u001B[0;32m    283\u001B[0m     \u001B[38;5;28;01mraise\u001B[39;00m \u001B[38;5;167;01mRuntimeError\u001B[39;00m(\n\u001B[0;32m    284\u001B[0m         \u001B[38;5;124m\"\u001B[39m\u001B[38;5;124mImplementing both \u001B[39m\u001B[38;5;124m'\u001B[39m\u001B[38;5;124mbackward\u001B[39m\u001B[38;5;124m'\u001B[39m\u001B[38;5;124m and \u001B[39m\u001B[38;5;124m'\u001B[39m\u001B[38;5;124mvjp\u001B[39m\u001B[38;5;124m'\u001B[39m\u001B[38;5;124m for a custom \u001B[39m\u001B[38;5;124m\"\u001B[39m\n\u001B[0;32m    285\u001B[0m         \u001B[38;5;124m\"\u001B[39m\u001B[38;5;124mFunction is not allowed. You should only implement one \u001B[39m\u001B[38;5;124m\"\u001B[39m\n\u001B[0;32m    286\u001B[0m         \u001B[38;5;124m\"\u001B[39m\u001B[38;5;124mof them.\u001B[39m\u001B[38;5;124m\"\u001B[39m\n\u001B[0;32m    287\u001B[0m     )\n\u001B[0;32m    288\u001B[0m user_fn \u001B[38;5;241m=\u001B[39m vjp_fn \u001B[38;5;28;01mif\u001B[39;00m vjp_fn \u001B[38;5;129;01mis\u001B[39;00m \u001B[38;5;129;01mnot\u001B[39;00m Function\u001B[38;5;241m.\u001B[39mvjp \u001B[38;5;28;01melse\u001B[39;00m backward_fn\n\u001B[1;32m--> 289\u001B[0m \u001B[38;5;28;01mreturn\u001B[39;00m user_fn(\u001B[38;5;28mself\u001B[39m, \u001B[38;5;241m*\u001B[39margs)\n",
      "\u001B[1;31mTypeError\u001B[0m: SpladeModel.backward() takes 2 positional arguments but 3 were given"
     ]
    }
   ],
   "source": [
    "splade[0].sum().backward()"
   ],
   "metadata": {
    "collapsed": false,
    "ExecuteTime": {
     "end_time": "2024-04-04T19:24:56.063617200Z",
     "start_time": "2024-04-04T19:24:56.027042100Z"
    }
   },
   "id": "114635e992590051"
  },
  {
   "cell_type": "code",
   "execution_count": 19,
   "outputs": [],
   "source": [
    "lm = linear_model.LinearModel.apply(x, w, None)"
   ],
   "metadata": {
    "collapsed": false,
    "ExecuteTime": {
     "end_time": "2024-04-04T18:18:46.925748700Z",
     "start_time": "2024-04-04T18:18:46.925239900Z"
    }
   },
   "id": "d0d27c762e406d9d"
  },
  {
   "cell_type": "code",
   "execution_count": 22,
   "outputs": [],
   "source": [
    "lm.sum().backward()"
   ],
   "metadata": {
    "collapsed": false,
    "ExecuteTime": {
     "end_time": "2024-04-04T18:19:36.229695600Z",
     "start_time": "2024-04-04T18:19:36.229082800Z"
    }
   },
   "id": "7901c2d39ef24595"
  },
  {
   "cell_type": "code",
   "execution_count": 23,
   "outputs": [
    {
     "name": "stdout",
     "output_type": "stream",
     "text": [
      "tensor([[ 9.,  8.],\n",
      "        [14.,  9.],\n",
      "        [13., 15.]], dtype=torch.float64)\n",
      "tensor([[ 1., -2.],\n",
      "        [13., 15.]], dtype=torch.float64)\n"
     ]
    }
   ],
   "source": [
    "print(x.grad)\n",
    "\n",
    "print(w.grad)"
   ],
   "metadata": {
    "collapsed": false,
    "ExecuteTime": {
     "end_time": "2024-04-04T18:19:42.092011900Z",
     "start_time": "2024-04-04T18:19:42.081948500Z"
    }
   },
   "id": "709125103dd9ea91"
  },
  {
   "cell_type": "code",
   "execution_count": 137,
   "outputs": [],
   "source": [
    "x_int = torch.randint(1, 5, (3, 2, 2), dtype=torch.float64, requires_grad=True)\n",
    "w_int = torch.randint(2, 4, (2, 4), dtype=torch.float64, requires_grad=True)\n"
   ],
   "metadata": {
    "collapsed": false,
    "ExecuteTime": {
     "end_time": "2024-04-05T10:30:56.749246300Z",
     "start_time": "2024-04-05T10:30:56.734573900Z"
    }
   },
   "id": "19637f958a38e889"
  },
  {
   "cell_type": "code",
   "execution_count": 139,
   "outputs": [
    {
     "name": "stdout",
     "output_type": "stream",
     "text": [
      "tensor([[[18., 15., 18., 18.]],\n",
      "\n",
      "        [[15., 14., 15., 15.]],\n",
      "\n",
      "        [[15., 14., 15., 15.]]], dtype=torch.float64, grad_fn=<MaxBackward0>)\n",
      "tensor([[[18., 15., 18., 18.],\n",
      "         [15., 13., 15., 15.]],\n",
      "\n",
      "        [[15., 11., 15., 15.],\n",
      "         [15., 14., 15., 15.]],\n",
      "\n",
      "        [[15., 14., 15., 15.],\n",
      "         [ 6.,  5.,  6.,  6.]]], dtype=torch.float64,\n",
      "       grad_fn=<UnsafeViewBackward0>)\n"
     ]
    }
   ],
   "source": [
    "max1, indice = torch.max(x_int @ w_int, 1, keepdim=True)\n",
    "print(max1)\n",
    "\n",
    "print(x_int @ w_int)"
   ],
   "metadata": {
    "collapsed": false,
    "ExecuteTime": {
     "end_time": "2024-04-05T10:31:11.440061600Z",
     "start_time": "2024-04-05T10:31:11.428095700Z"
    }
   },
   "id": "64ea64bbb4ffc63b"
  },
  {
   "cell_type": "code",
   "execution_count": 88,
   "outputs": [],
   "source": [
    "max1.sum().backward()"
   ],
   "metadata": {
    "collapsed": false,
    "ExecuteTime": {
     "end_time": "2024-04-05T09:34:41.131369100Z",
     "start_time": "2024-04-05T09:34:41.125914700Z"
    }
   },
   "id": "a8128abc9325d3a0"
  },
  {
   "cell_type": "code",
   "execution_count": 97,
   "outputs": [
    {
     "name": "stdout",
     "output_type": "stream",
     "text": [
      "torch.Size([3, 1, 4])\n"
     ]
    }
   ],
   "source": [
    "print(indice)"
   ],
   "metadata": {
    "collapsed": false,
    "ExecuteTime": {
     "end_time": "2024-04-05T09:36:42.957812600Z",
     "start_time": "2024-04-05T09:36:42.928793300Z"
    }
   },
   "id": "2ce653b547c4f7be"
  },
  {
   "cell_type": "code",
   "execution_count": 101,
   "outputs": [
    {
     "name": "stdout",
     "output_type": "stream",
     "text": [
      "tensor([[[0., 0., 0., 0.],\n",
      "         [1., 1., 1., 1.]],\n",
      "\n",
      "        [[0., 0., 0., 0.],\n",
      "         [1., 1., 1., 1.]],\n",
      "\n",
      "        [[0., 0., 0., 0.],\n",
      "         [1., 1., 1., 1.]]], dtype=torch.float64)\n"
     ]
    }
   ],
   "source": [
    "mask = torch.zeros_like(x_int @ w_int).scatter_(1, indice, 1.)\n",
    "print(mask)"
   ],
   "metadata": {
    "collapsed": false,
    "ExecuteTime": {
     "end_time": "2024-04-05T09:37:26.304617800Z",
     "start_time": "2024-04-05T09:37:26.289421700Z"
    }
   },
   "id": "4a5764f9b472488"
  },
  {
   "cell_type": "code",
   "execution_count": 102,
   "outputs": [
    {
     "name": "stdout",
     "output_type": "stream",
     "text": [
      "tensor([[[ 0.,  0.],\n",
      "         [11., 10.]],\n",
      "\n",
      "        [[ 0.,  0.],\n",
      "         [11., 10.]],\n",
      "\n",
      "        [[ 0.,  0.],\n",
      "         [11., 10.]]], dtype=torch.float64, grad_fn=<UnsafeViewBackward0>)\n"
     ]
    }
   ],
   "source": [
    "print(mask @ w_int.t())"
   ],
   "metadata": {
    "collapsed": false,
    "ExecuteTime": {
     "end_time": "2024-04-05T09:38:21.088762200Z",
     "start_time": "2024-04-05T09:38:21.073637900Z"
    }
   },
   "id": "acc468a8f3d7b9d6"
  },
  {
   "cell_type": "code",
   "execution_count": 103,
   "outputs": [
    {
     "name": "stdout",
     "output_type": "stream",
     "text": [
      "tensor([[[ 0.,  0.],\n",
      "         [11., 10.]],\n",
      "\n",
      "        [[ 0.,  0.],\n",
      "         [11., 10.]],\n",
      "\n",
      "        [[ 0.,  0.],\n",
      "         [11., 10.]]], dtype=torch.float64)\n",
      "tensor([[9., 9., 9., 9.],\n",
      "        [8., 8., 8., 8.]], dtype=torch.float64)\n"
     ]
    }
   ],
   "source": [
    "print(x_int.grad)\n",
    "print(w_int.grad)"
   ],
   "metadata": {
    "collapsed": false,
    "ExecuteTime": {
     "end_time": "2024-04-05T09:38:35.374310Z",
     "start_time": "2024-04-05T09:38:35.370817100Z"
    }
   },
   "id": "1c66393472c1829e"
  },
  {
   "cell_type": "code",
   "execution_count": 49,
   "outputs": [
    {
     "data": {
      "text/plain": "tensor([[[1, 0],\n         [0, 1]],\n\n        [[1, 1],\n         [0, 0]],\n\n        [[1, 1],\n         [0, 0]]])"
     },
     "execution_count": 49,
     "metadata": {},
     "output_type": "execute_result"
    }
   ],
   "source": [
    "torch.zeros_like(x_int).scatter_(1, indice, 1.)"
   ],
   "metadata": {
    "collapsed": false,
    "ExecuteTime": {
     "end_time": "2024-04-04T18:48:31.897793900Z",
     "start_time": "2024-04-04T18:48:31.891979Z"
    }
   },
   "id": "4c8acf1a787d8073"
  },
  {
   "cell_type": "code",
   "execution_count": 122,
   "outputs": [],
   "source": [
    "x_int1 = torch.randint(-5, 4, (3, 4 ,6), dtype=torch.float64, requires_grad=True)\n",
    "w_int1 = torch.randint(-5, 4, (6, 5), dtype=torch.float64, requires_grad=True)"
   ],
   "metadata": {
    "collapsed": false,
    "ExecuteTime": {
     "end_time": "2024-04-05T09:48:42.092485500Z",
     "start_time": "2024-04-05T09:48:42.089974900Z"
    }
   },
   "id": "7d7197e5092b0db6"
  },
  {
   "cell_type": "code",
   "execution_count": 123,
   "outputs": [],
   "source": [
    "m = ReLU()\n",
    "rl = m(x_int1 @ w_int1)"
   ],
   "metadata": {
    "collapsed": false,
    "ExecuteTime": {
     "end_time": "2024-04-05T09:48:42.388326200Z",
     "start_time": "2024-04-05T09:48:42.387822900Z"
    }
   },
   "id": "9a990c438a2c25e7"
  },
  {
   "cell_type": "code",
   "execution_count": 124,
   "outputs": [],
   "source": [
    "rl1 = torch.max(x_int1 @ w_int1, torch.zeros_like(x_int1 @ w_int1))"
   ],
   "metadata": {
    "collapsed": false,
    "ExecuteTime": {
     "end_time": "2024-04-05T09:48:42.612739200Z",
     "start_time": "2024-04-05T09:48:42.612236900Z"
    }
   },
   "id": "cdb11b77b86af02e"
  },
  {
   "cell_type": "code",
   "execution_count": 125,
   "outputs": [],
   "source": [
    "rl.sum().backward()"
   ],
   "metadata": {
    "collapsed": false,
    "ExecuteTime": {
     "end_time": "2024-04-05T09:48:42.930618400Z",
     "start_time": "2024-04-05T09:48:42.927336700Z"
    }
   },
   "id": "9872cd08b94467ca"
  },
  {
   "cell_type": "code",
   "execution_count": 126,
   "outputs": [
    {
     "name": "stdout",
     "output_type": "stream",
     "text": [
      "tensor([[[ 0.,  0., 22., 19.,  9.],\n",
      "         [ 0.,  4., 20., 20.,  5.],\n",
      "         [ 0.,  0.,  3., 19., 21.],\n",
      "         [ 0.,  0., 19., 10.,  5.]],\n",
      "\n",
      "        [[10., 19.,  0.,  0.,  0.],\n",
      "         [ 0.,  0., 19.,  8., 28.],\n",
      "         [ 0.,  6., 21., 19., 12.],\n",
      "         [17., 10., 15.,  0., 12.]],\n",
      "\n",
      "        [[ 0.,  0.,  0., 19., 25.],\n",
      "         [ 0.,  0.,  5., 10., 23.],\n",
      "         [18.,  5.,  0.,  0.,  0.],\n",
      "         [ 0.,  0., 24.,  3.,  1.]]], dtype=torch.float64,\n",
      "       grad_fn=<ReluBackward0>)\n"
     ]
    }
   ],
   "source": [
    "print(rl)"
   ],
   "metadata": {
    "collapsed": false,
    "ExecuteTime": {
     "end_time": "2024-04-05T09:49:03.130623700Z",
     "start_time": "2024-04-05T09:49:03.114788900Z"
    }
   },
   "id": "c3413868a712382d"
  },
  {
   "cell_type": "code",
   "execution_count": 131,
   "outputs": [
    {
     "name": "stdout",
     "output_type": "stream",
     "text": [
      "tensor([[[0., 0., 1., 1., 1.],\n",
      "         [0., 1., 1., 1., 1.],\n",
      "         [0., 0., 1., 1., 1.],\n",
      "         [0., 0., 1., 1., 1.]],\n",
      "\n",
      "        [[1., 1., 0., 0., 0.],\n",
      "         [0., 0., 1., 1., 1.],\n",
      "         [0., 1., 1., 1., 1.],\n",
      "         [1., 1., 1., 0., 1.]],\n",
      "\n",
      "        [[0., 0., 0., 1., 1.],\n",
      "         [0., 0., 1., 1., 1.],\n",
      "         [1., 1., 0., 0., 0.],\n",
      "         [0., 0., 1., 1., 1.]]], dtype=torch.float64)\n"
     ]
    }
   ],
   "source": [
    "mask = torch.zeros_like(rl)\n",
    "mask[torch.nonzero(rl, as_tuple=True)] = 1\n",
    "\n",
    "print(mask)"
   ],
   "metadata": {
    "collapsed": false,
    "ExecuteTime": {
     "end_time": "2024-04-05T09:53:37.221492200Z",
     "start_time": "2024-04-05T09:53:37.211542900Z"
    }
   },
   "id": "3f6c9071910f181c"
  },
  {
   "cell_type": "code",
   "execution_count": 133,
   "outputs": [
    {
     "name": "stdout",
     "output_type": "stream",
     "text": [
      "torch.Size([3, 4, 5])\n"
     ]
    }
   ],
   "source": [
    "print(mask.size())"
   ],
   "metadata": {
    "collapsed": false,
    "ExecuteTime": {
     "end_time": "2024-04-05T09:54:27.987923100Z",
     "start_time": "2024-04-05T09:54:27.963772Z"
    }
   },
   "id": "22e005e4a663044e"
  },
  {
   "cell_type": "code",
   "execution_count": 132,
   "outputs": [
    {
     "name": "stdout",
     "output_type": "stream",
     "text": [
      "tensor([[[ -3.,  -2.,   0., -11.,  -4.,  -8.],\n",
      "         [ -1.,   0.,  -4., -11.,  -5., -11.],\n",
      "         [ -3.,  -2.,   0., -11.,  -4.,  -8.],\n",
      "         [ -3.,  -2.,   0., -11.,  -4.,  -8.]],\n",
      "\n",
      "        [[  5.,   1.,  -6.,   1.,  -1.,  -3.],\n",
      "         [ -3.,  -2.,   0., -11.,  -4.,  -8.],\n",
      "         [ -1.,   0.,  -4., -11.,  -5., -11.],\n",
      "         [  2.,  -1.,  -9.,  -5.,  -5.,  -7.]],\n",
      "\n",
      "        [[ -1.,  -3.,   3.,  -8.,  -1.,  -6.],\n",
      "         [ -3.,  -2.,   0., -11.,  -4.,  -8.],\n",
      "         [  5.,   1.,  -6.,   1.,  -1.,  -3.],\n",
      "         [ -3.,  -2.,   0., -11.,  -4.,  -8.]]], dtype=torch.float64,\n",
      "       grad_fn=<UnsafeViewBackward0>)\n"
     ]
    }
   ],
   "source": [
    "print(mask @ w_int1.t())"
   ],
   "metadata": {
    "collapsed": false,
    "ExecuteTime": {
     "end_time": "2024-04-05T09:53:59.420303500Z",
     "start_time": "2024-04-05T09:53:59.388655800Z"
    }
   },
   "id": "c9f539e7369784c3"
  },
  {
   "cell_type": "code",
   "execution_count": 127,
   "outputs": [
    {
     "name": "stdout",
     "output_type": "stream",
     "text": [
      "tensor([[[ -3.,  -2.,   0., -11.,  -4.,  -8.],\n",
      "         [ -1.,   0.,  -4., -11.,  -5., -11.],\n",
      "         [ -3.,  -2.,   0., -11.,  -4.,  -8.],\n",
      "         [ -3.,  -2.,   0., -11.,  -4.,  -8.]],\n",
      "\n",
      "        [[  5.,   1.,  -6.,   1.,  -1.,  -3.],\n",
      "         [ -3.,  -2.,   0., -11.,  -4.,  -8.],\n",
      "         [ -1.,   0.,  -4., -11.,  -5., -11.],\n",
      "         [  2.,  -1.,  -9.,  -5.,  -5.,  -7.]],\n",
      "\n",
      "        [[ -1.,  -3.,   3.,  -8.,  -1.,  -6.],\n",
      "         [ -3.,  -2.,   0., -11.,  -4.,  -8.],\n",
      "         [  5.,   1.,  -6.,   1.,  -1.,  -3.],\n",
      "         [ -3.,  -2.,   0., -11.,  -4.,  -8.]]], dtype=torch.float64)\n"
     ]
    }
   ],
   "source": [
    "print(x_int1.grad)"
   ],
   "metadata": {
    "collapsed": false,
    "ExecuteTime": {
     "end_time": "2024-04-05T09:49:07.038285900Z",
     "start_time": "2024-04-05T09:49:07.027882Z"
    }
   },
   "id": "3f311d9b7ac1a0c1"
  },
  {
   "cell_type": "code",
   "execution_count": 136,
   "outputs": [
    {
     "name": "stdout",
     "output_type": "stream",
     "text": [
      "tensor([[  7.,  -1., -20., -28., -25.],\n",
      "        [ -4.,   0.,  -6.,  -8., -11.],\n",
      "        [ -9.,  -9.,   2.,   8.,   4.],\n",
      "        [  2.,  -1., -21., -19., -22.],\n",
      "        [  2.,   2., -21., -16., -19.],\n",
      "        [  2.,  -4.,   3.,  -2.,   1.]], dtype=torch.float64)\n"
     ]
    }
   ],
   "source": [
    "print(w_int1.grad)"
   ],
   "metadata": {
    "collapsed": false,
    "ExecuteTime": {
     "end_time": "2024-04-05T10:00:25.813418300Z",
     "start_time": "2024-04-05T10:00:25.808357700Z"
    }
   },
   "id": "c6318706c6e0661e"
  },
  {
   "cell_type": "code",
   "execution_count": 134,
   "outputs": [
    {
     "name": "stdout",
     "output_type": "stream",
     "text": [
      "tensor([[[-73., -25.,  14., -62., -56.,   2.],\n",
      "         [-74., -25.,   5., -63., -54.,  -2.],\n",
      "         [-73., -25.,  14., -62., -56.,   2.],\n",
      "         [-73., -25.,  14., -62., -56.,   2.]],\n",
      "\n",
      "        [[  6.,  -4., -18.,   1.,   4.,  -2.],\n",
      "         [-73., -25.,  14., -62., -56.,   2.],\n",
      "         [-74., -25.,   5., -63., -54.,  -2.],\n",
      "         [-39., -21., -12., -42., -36.,   2.]],\n",
      "\n",
      "        [[-53., -19.,  12., -41., -35.,  -1.],\n",
      "         [-73., -25.,  14., -62., -56.,   2.],\n",
      "         [  6.,  -4., -18.,   1.,   4.,  -2.],\n",
      "         [-73., -25.,  14., -62., -56.,   2.]]], dtype=torch.float64)\n"
     ]
    }
   ],
   "source": [
    "print(mask @ )"
   ],
   "metadata": {
    "collapsed": false,
    "ExecuteTime": {
     "end_time": "2024-04-05T09:57:10.773615500Z",
     "start_time": "2024-04-05T09:57:10.759940200Z"
    }
   },
   "id": "44889ab75e61cd05"
  },
  {
   "cell_type": "code",
   "execution_count": null,
   "outputs": [],
   "source": [],
   "metadata": {
    "collapsed": false
   },
   "id": "26c1d355be89a838"
  }
 ],
 "metadata": {
  "kernelspec": {
   "display_name": "Python 3",
   "language": "python",
   "name": "python3"
  },
  "language_info": {
   "codemirror_mode": {
    "name": "ipython",
    "version": 2
   },
   "file_extension": ".py",
   "mimetype": "text/x-python",
   "name": "python",
   "nbconvert_exporter": "python",
   "pygments_lexer": "ipython2",
   "version": "2.7.6"
  }
 },
 "nbformat": 4,
 "nbformat_minor": 5
}
