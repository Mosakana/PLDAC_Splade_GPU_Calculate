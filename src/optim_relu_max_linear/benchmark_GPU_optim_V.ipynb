{
 "cells": [
  {
   "cell_type": "code",
   "execution_count": 2,
   "id": "initial_id",
   "metadata": {
    "collapsed": true,
    "ExecuteTime": {
     "end_time": "2024-05-10T14:12:46.358205400Z",
     "start_time": "2024-05-10T14:12:46.342590300Z"
    }
   },
   "outputs": [],
   "source": [
    "from optim_relu_max_linear import OptimReluMaxLinear\n",
    "from check_grad_optim_v import test_optim_splade_model\n",
    "import triton\n",
    "import torch"
   ]
  },
  {
   "cell_type": "code",
   "execution_count": 3,
   "outputs": [
    {
     "data": {
      "text/plain": "True"
     },
     "execution_count": 3,
     "metadata": {},
     "output_type": "execute_result"
    }
   ],
   "source": [
    "torch.cuda.is_available()"
   ],
   "metadata": {
    "collapsed": false,
    "ExecuteTime": {
     "end_time": "2024-05-10T14:12:47.351932400Z",
     "start_time": "2024-05-10T14:12:47.320666600Z"
    }
   },
   "id": "82f9c9b268a9a9d8"
  },
  {
   "cell_type": "code",
   "outputs": [
    {
     "name": "stderr",
     "output_type": "stream",
     "text": [
      "/users/nfs/Enseignants/piwowarski/venv/deepdac/lib/python3.9/site-packages/torch/autograd/__init__.py:394: UserWarning: Error detected in OptimReluMaxLinearVBackward. Traceback of forward call that caused the error:\n",
      "  File \"/usr/local/lib/python3.9/runpy.py\", line 197, in _run_module_as_main\n",
      "    return _run_code(code, main_globals, None,\n",
      "  File \"/usr/local/lib/python3.9/runpy.py\", line 87, in _run_code\n",
      "    exec(code, run_globals)\n",
      "  File \"/users/nfs/Enseignants/piwowarski/venv/deepdac/lib/python3.9/site-packages/ipykernel_launcher.py\", line 17, in <module>\n",
      "    app.launch_new_instance()\n",
      "  File \"/users/nfs/Enseignants/piwowarski/venv/deepdac/lib/python3.9/site-packages/traitlets/config/application.py\", line 978, in launch_instance\n",
      "    app.start()\n",
      "  File \"/users/nfs/Enseignants/piwowarski/venv/deepdac/lib/python3.9/site-packages/ipykernel/kernelapp.py\", line 712, in start\n",
      "    self.io_loop.start()\n",
      "  File \"/users/nfs/Enseignants/piwowarski/venv/deepdac/lib/python3.9/site-packages/tornado/platform/asyncio.py\", line 215, in start\n",
      "    self.asyncio_loop.run_forever()\n",
      "  File \"/usr/local/lib/python3.9/asyncio/base_events.py\", line 596, in run_forever\n",
      "    self._run_once()\n",
      "  File \"/usr/local/lib/python3.9/asyncio/base_events.py\", line 1890, in _run_once\n",
      "    handle._run()\n",
      "  File \"/usr/local/lib/python3.9/asyncio/events.py\", line 80, in _run\n",
      "    self._context.run(self._callback, *self._args)\n",
      "  File \"/users/nfs/Enseignants/piwowarski/venv/deepdac/lib/python3.9/site-packages/ipykernel/kernelbase.py\", line 510, in dispatch_queue\n",
      "    await self.process_one()\n",
      "  File \"/users/nfs/Enseignants/piwowarski/venv/deepdac/lib/python3.9/site-packages/ipykernel/kernelbase.py\", line 499, in process_one\n",
      "    await dispatch(*args)\n",
      "  File \"/users/nfs/Enseignants/piwowarski/venv/deepdac/lib/python3.9/site-packages/ipykernel/kernelbase.py\", line 406, in dispatch_shell\n",
      "    await result\n",
      "  File \"/users/nfs/Enseignants/piwowarski/venv/deepdac/lib/python3.9/site-packages/ipykernel/kernelbase.py\", line 730, in execute_request\n",
      "    reply_content = await reply_content\n",
      "  File \"/users/nfs/Enseignants/piwowarski/venv/deepdac/lib/python3.9/site-packages/ipykernel/ipkernel.py\", line 383, in do_execute\n",
      "    res = shell.run_cell(\n",
      "  File \"/users/nfs/Enseignants/piwowarski/venv/deepdac/lib/python3.9/site-packages/ipykernel/zmqshell.py\", line 528, in run_cell\n",
      "    return super().run_cell(*args, **kwargs)\n",
      "  File \"/users/nfs/Enseignants/piwowarski/venv/deepdac/lib/python3.9/site-packages/IPython/core/interactiveshell.py\", line 2885, in run_cell\n",
      "    result = self._run_cell(\n",
      "  File \"/users/nfs/Enseignants/piwowarski/venv/deepdac/lib/python3.9/site-packages/IPython/core/interactiveshell.py\", line 2940, in _run_cell\n",
      "    return runner(coro)\n",
      "  File \"/users/nfs/Enseignants/piwowarski/venv/deepdac/lib/python3.9/site-packages/IPython/core/async_helpers.py\", line 129, in _pseudo_sync_runner\n",
      "    coro.send(None)\n",
      "  File \"/users/nfs/Enseignants/piwowarski/venv/deepdac/lib/python3.9/site-packages/IPython/core/interactiveshell.py\", line 3139, in run_cell_async\n",
      "    has_raised = await self.run_ast_nodes(code_ast.body, cell_name,\n",
      "  File \"/users/nfs/Enseignants/piwowarski/venv/deepdac/lib/python3.9/site-packages/IPython/core/interactiveshell.py\", line 3318, in run_ast_nodes\n",
      "    if await self.run_code(code, result, async_=asy):\n",
      "  File \"/users/nfs/Enseignants/piwowarski/venv/deepdac/lib/python3.9/site-packages/IPython/core/interactiveshell.py\", line 3378, in run_code\n",
      "    exec(code_obj, self.user_global_ns, self.user_ns)\n",
      "  File \"/tmp/ipykernel_2932/1492768795.py\", line 1, in <module>\n",
      "    test_optim_splade_model()\n",
      "  File \"/users/nfs/Etu6/21214576/PLDAC_Splade_GPU_Calculate/src/optim_relu_max_linear/check_grad_optim_v.py\", line 22, in test_optim_splade_model\n",
      "    print(f'The grad calculation is correct : {torch.autograd.gradcheck(OptimReluMaxLinearV.apply, (x, w, b, mask))}')\n",
      "  File \"/users/nfs/Enseignants/piwowarski/venv/deepdac/lib/python3.9/site-packages/torch/autograd/gradcheck.py\", line 2051, in gradcheck\n",
      "    return _gradcheck_helper(**args)\n",
      "  File \"/users/nfs/Enseignants/piwowarski/venv/deepdac/lib/python3.9/site-packages/torch/autograd/gradcheck.py\", line 2073, in _gradcheck_helper\n",
      "    func_out = func(*tupled_inputs)\n",
      "  File \"/users/nfs/Enseignants/piwowarski/venv/deepdac/lib/python3.9/site-packages/torch/autograd/function.py\", line 539, in apply\n",
      "    return super().apply(*args, **kwargs)  # type: ignore[misc]\n",
      " (Triggered internally at ../torch/csrc/autograd/python_anomaly_mode.cpp:114.)\n",
      "  result = Variable._execution_engine.run_backward(  # Calls into the C++ engine to run the backward pass\n"
     ]
    },
    {
     "ename": "FileNotFoundError",
     "evalue": "[Errno 2] No such file or directory: 'ldconfig'",
     "output_type": "error",
     "traceback": [
      "\u001B[0;31m---------------------------------------------------------------------------\u001B[0m",
      "\u001B[0;31mFileNotFoundError\u001B[0m                         Traceback (most recent call last)",
      "Cell \u001B[0;32mIn [3], line 1\u001B[0m\n\u001B[0;32m----> 1\u001B[0m \u001B[43mtest_optim_splade_model\u001B[49m\u001B[43m(\u001B[49m\u001B[43m)\u001B[49m\n",
      "File \u001B[0;32m/users/nfs/Etu6/21214576/PLDAC_Splade_GPU_Calculate/src/optim_relu_max_linear/check_grad_optim_v.py:22\u001B[0m, in \u001B[0;36mtest_optim_splade_model\u001B[0;34m()\u001B[0m\n\u001B[1;32m     18\u001B[0m b \u001B[38;5;241m=\u001B[39m torch\u001B[38;5;241m.\u001B[39mrandn(vocabulary, requires_grad\u001B[38;5;241m=\u001B[39m\u001B[38;5;28;01mTrue\u001B[39;00m, dtype\u001B[38;5;241m=\u001B[39mtorch\u001B[38;5;241m.\u001B[39mfloat64, device\u001B[38;5;241m=\u001B[39m\u001B[38;5;124m'\u001B[39m\u001B[38;5;124mcuda\u001B[39m\u001B[38;5;124m'\u001B[39m)\n\u001B[1;32m     19\u001B[0m torch\u001B[38;5;241m.\u001B[39mautograd\u001B[38;5;241m.\u001B[39mset_detect_anomaly(\u001B[38;5;28;01mTrue\u001B[39;00m)\n\u001B[0;32m---> 22\u001B[0m \u001B[38;5;28mprint\u001B[39m(\u001B[38;5;124mf\u001B[39m\u001B[38;5;124m'\u001B[39m\u001B[38;5;124mThe grad calculation is correct : \u001B[39m\u001B[38;5;132;01m{\u001B[39;00mtorch\u001B[38;5;241m.\u001B[39mautograd\u001B[38;5;241m.\u001B[39mgradcheck(OptimReluMaxLinearV\u001B[38;5;241m.\u001B[39mapply, (x, w, b, mask))\u001B[38;5;132;01m}\u001B[39;00m\u001B[38;5;124m'\u001B[39m)\n",
      "File \u001B[0;32m/users/nfs/Enseignants/piwowarski/venv/deepdac/lib/python3.9/site-packages/torch/autograd/gradcheck.py:2051\u001B[0m, in \u001B[0;36mgradcheck\u001B[0;34m(func, inputs, eps, atol, rtol, raise_exception, check_sparse_nnz, nondet_tol, check_undefined_grad, check_grad_dtypes, check_batched_grad, check_batched_forward_grad, check_forward_ad, check_backward_ad, fast_mode, masked)\u001B[0m\n\u001B[1;32m   2049\u001B[0m         \u001B[38;5;28;01mreturn\u001B[39;00m \u001B[38;5;28;01mFalse\u001B[39;00m\n\u001B[1;32m   2050\u001B[0m \u001B[38;5;28;01melse\u001B[39;00m:\n\u001B[0;32m-> 2051\u001B[0m     \u001B[38;5;28;01mreturn\u001B[39;00m \u001B[43m_gradcheck_helper\u001B[49m\u001B[43m(\u001B[49m\u001B[38;5;241;43m*\u001B[39;49m\u001B[38;5;241;43m*\u001B[39;49m\u001B[43margs\u001B[49m\u001B[43m)\u001B[49m\n",
      "File \u001B[0;32m/users/nfs/Enseignants/piwowarski/venv/deepdac/lib/python3.9/site-packages/torch/autograd/gradcheck.py:2080\u001B[0m, in \u001B[0;36m_gradcheck_helper\u001B[0;34m(func, inputs, eps, atol, rtol, nondet_tol, check_undefined_grad, check_grad_dtypes, check_batched_grad, check_batched_forward_grad, check_forward_ad, check_backward_ad, fast_mode, masked)\u001B[0m\n\u001B[1;32m   2075\u001B[0m _check_outputs(outputs)\n\u001B[1;32m   2077\u001B[0m gradcheck_fn \u001B[38;5;241m=\u001B[39m functools\u001B[38;5;241m.\u001B[39mpartial(\n\u001B[1;32m   2078\u001B[0m     _fast_gradcheck \u001B[38;5;28;01mif\u001B[39;00m fast_mode \u001B[38;5;28;01melse\u001B[39;00m _slow_gradcheck, masked\u001B[38;5;241m=\u001B[39mmasked\n\u001B[1;32m   2079\u001B[0m )\n\u001B[0;32m-> 2080\u001B[0m \u001B[43m_gradcheck_real_imag\u001B[49m\u001B[43m(\u001B[49m\n\u001B[1;32m   2081\u001B[0m \u001B[43m    \u001B[49m\u001B[43mgradcheck_fn\u001B[49m\u001B[43m,\u001B[49m\n\u001B[1;32m   2082\u001B[0m \u001B[43m    \u001B[49m\u001B[43mfunc\u001B[49m\u001B[43m,\u001B[49m\n\u001B[1;32m   2083\u001B[0m \u001B[43m    \u001B[49m\u001B[43mfunc_out\u001B[49m\u001B[43m,\u001B[49m\n\u001B[1;32m   2084\u001B[0m \u001B[43m    \u001B[49m\u001B[43mtupled_inputs\u001B[49m\u001B[43m,\u001B[49m\n\u001B[1;32m   2085\u001B[0m \u001B[43m    \u001B[49m\u001B[43moutputs\u001B[49m\u001B[43m,\u001B[49m\n\u001B[1;32m   2086\u001B[0m \u001B[43m    \u001B[49m\u001B[43meps\u001B[49m\u001B[43m,\u001B[49m\n\u001B[1;32m   2087\u001B[0m \u001B[43m    \u001B[49m\u001B[43mrtol\u001B[49m\u001B[43m,\u001B[49m\n\u001B[1;32m   2088\u001B[0m \u001B[43m    \u001B[49m\u001B[43matol\u001B[49m\u001B[43m,\u001B[49m\n\u001B[1;32m   2089\u001B[0m \u001B[43m    \u001B[49m\u001B[43mcheck_grad_dtypes\u001B[49m\u001B[43m,\u001B[49m\n\u001B[1;32m   2090\u001B[0m \u001B[43m    \u001B[49m\u001B[43mcheck_forward_ad\u001B[49m\u001B[38;5;241;43m=\u001B[39;49m\u001B[43mcheck_forward_ad\u001B[49m\u001B[43m,\u001B[49m\n\u001B[1;32m   2091\u001B[0m \u001B[43m    \u001B[49m\u001B[43mcheck_backward_ad\u001B[49m\u001B[38;5;241;43m=\u001B[39;49m\u001B[43mcheck_backward_ad\u001B[49m\u001B[43m,\u001B[49m\n\u001B[1;32m   2092\u001B[0m \u001B[43m    \u001B[49m\u001B[43mnondet_tol\u001B[49m\u001B[38;5;241;43m=\u001B[39;49m\u001B[43mnondet_tol\u001B[49m\u001B[43m,\u001B[49m\n\u001B[1;32m   2093\u001B[0m \u001B[43m    \u001B[49m\u001B[43mcheck_undefined_grad\u001B[49m\u001B[38;5;241;43m=\u001B[39;49m\u001B[43mcheck_undefined_grad\u001B[49m\u001B[43m,\u001B[49m\n\u001B[1;32m   2094\u001B[0m \u001B[43m\u001B[49m\u001B[43m)\u001B[49m\n\u001B[1;32m   2096\u001B[0m \u001B[38;5;28;01mif\u001B[39;00m check_batched_forward_grad:\n\u001B[1;32m   2097\u001B[0m     _test_batched_grad_forward_ad(func, tupled_inputs)\n",
      "File \u001B[0;32m/users/nfs/Enseignants/piwowarski/venv/deepdac/lib/python3.9/site-packages/torch/autograd/gradcheck.py:1482\u001B[0m, in \u001B[0;36m_gradcheck_real_imag\u001B[0;34m(gradcheck_fn, func, func_out, tupled_inputs, outputs, eps, rtol, atol, check_grad_dtypes, check_forward_ad, check_backward_ad, nondet_tol, check_undefined_grad)\u001B[0m\n\u001B[1;32m   1469\u001B[0m         gradcheck_fn(\n\u001B[1;32m   1470\u001B[0m             real_fn,\n\u001B[1;32m   1471\u001B[0m             real_func_out,\n\u001B[0;32m   (...)\u001B[0m\n\u001B[1;32m   1479\u001B[0m             complex_indices\u001B[38;5;241m=\u001B[39mcomplex_out_indices,\n\u001B[1;32m   1480\u001B[0m         )\n\u001B[1;32m   1481\u001B[0m     \u001B[38;5;28;01melse\u001B[39;00m:\n\u001B[0;32m-> 1482\u001B[0m         \u001B[43mgradcheck_fn\u001B[49m\u001B[43m(\u001B[49m\n\u001B[1;32m   1483\u001B[0m \u001B[43m            \u001B[49m\u001B[43mfunc\u001B[49m\u001B[43m,\u001B[49m\n\u001B[1;32m   1484\u001B[0m \u001B[43m            \u001B[49m\u001B[43mfunc_out\u001B[49m\u001B[43m,\u001B[49m\n\u001B[1;32m   1485\u001B[0m \u001B[43m            \u001B[49m\u001B[43mtupled_inputs\u001B[49m\u001B[43m,\u001B[49m\n\u001B[1;32m   1486\u001B[0m \u001B[43m            \u001B[49m\u001B[43moutputs\u001B[49m\u001B[43m,\u001B[49m\n\u001B[1;32m   1487\u001B[0m \u001B[43m            \u001B[49m\u001B[43meps\u001B[49m\u001B[43m,\u001B[49m\n\u001B[1;32m   1488\u001B[0m \u001B[43m            \u001B[49m\u001B[43mrtol\u001B[49m\u001B[43m,\u001B[49m\n\u001B[1;32m   1489\u001B[0m \u001B[43m            \u001B[49m\u001B[43matol\u001B[49m\u001B[43m,\u001B[49m\n\u001B[1;32m   1490\u001B[0m \u001B[43m            \u001B[49m\u001B[43mcheck_grad_dtypes\u001B[49m\u001B[43m,\u001B[49m\n\u001B[1;32m   1491\u001B[0m \u001B[43m            \u001B[49m\u001B[43mnondet_tol\u001B[49m\u001B[43m,\u001B[49m\n\u001B[1;32m   1492\u001B[0m \u001B[43m        \u001B[49m\u001B[43m)\u001B[49m\n\u001B[1;32m   1494\u001B[0m \u001B[38;5;28;01mif\u001B[39;00m check_forward_ad:\n\u001B[1;32m   1495\u001B[0m     complex_inp_indices \u001B[38;5;241m=\u001B[39m [\n\u001B[1;32m   1496\u001B[0m         i\n\u001B[1;32m   1497\u001B[0m         \u001B[38;5;28;01mfor\u001B[39;00m i, inp \u001B[38;5;129;01min\u001B[39;00m \u001B[38;5;28menumerate\u001B[39m(tupled_inputs)\n\u001B[1;32m   1498\u001B[0m         \u001B[38;5;28;01mif\u001B[39;00m is_tensor_like(inp) \u001B[38;5;129;01mand\u001B[39;00m inp\u001B[38;5;241m.\u001B[39mis_complex()\n\u001B[1;32m   1499\u001B[0m     ]\n",
      "File \u001B[0;32m/users/nfs/Enseignants/piwowarski/venv/deepdac/lib/python3.9/site-packages/torch/autograd/gradcheck.py:1617\u001B[0m, in \u001B[0;36m_slow_gradcheck\u001B[0;34m(func, func_out, tupled_inputs, outputs, eps, rtol, atol, check_grad_dtypes, nondet_tol, use_forward_ad, complex_indices, test_imag, masked)\u001B[0m\n\u001B[1;32m   1615\u001B[0m \u001B[38;5;28;01melse\u001B[39;00m:\n\u001B[1;32m   1616\u001B[0m     \u001B[38;5;28;01mfor\u001B[39;00m i, o \u001B[38;5;129;01min\u001B[39;00m \u001B[38;5;28menumerate\u001B[39m(outputs):\n\u001B[0;32m-> 1617\u001B[0m         analytical \u001B[38;5;241m=\u001B[39m \u001B[43m_check_analytical_jacobian_attributes\u001B[49m\u001B[43m(\u001B[49m\n\u001B[1;32m   1618\u001B[0m \u001B[43m            \u001B[49m\u001B[43mtupled_inputs\u001B[49m\u001B[43m,\u001B[49m\u001B[43m \u001B[49m\u001B[43mo\u001B[49m\u001B[43m,\u001B[49m\u001B[43m \u001B[49m\u001B[43mnondet_tol\u001B[49m\u001B[43m,\u001B[49m\u001B[43m \u001B[49m\u001B[43mcheck_grad_dtypes\u001B[49m\n\u001B[1;32m   1619\u001B[0m \u001B[43m        \u001B[49m\u001B[43m)\u001B[49m\n\u001B[1;32m   1621\u001B[0m         \u001B[38;5;28;01mfor\u001B[39;00m j, (a, n) \u001B[38;5;129;01min\u001B[39;00m \u001B[38;5;28menumerate\u001B[39m(\u001B[38;5;28mzip\u001B[39m(analytical, numerical[i])):\n\u001B[1;32m   1622\u001B[0m             \u001B[38;5;28;01mif\u001B[39;00m \u001B[38;5;129;01mnot\u001B[39;00m _allclose_with_type_promotion(a, n\u001B[38;5;241m.\u001B[39mto(a\u001B[38;5;241m.\u001B[39mdevice), rtol, atol):\n",
      "File \u001B[0;32m/users/nfs/Enseignants/piwowarski/venv/deepdac/lib/python3.9/site-packages/torch/autograd/gradcheck.py:768\u001B[0m, in \u001B[0;36m_check_analytical_jacobian_attributes\u001B[0;34m(inputs, output, nondet_tol, check_grad_dtypes, fast_mode, v)\u001B[0m\n\u001B[1;32m    766\u001B[0m     vjps2 \u001B[38;5;241m=\u001B[39m _get_analytical_vjps_wrt_specific_output(vjp_fn, output\u001B[38;5;241m.\u001B[39mclone(), v)\n\u001B[1;32m    767\u001B[0m \u001B[38;5;28;01melse\u001B[39;00m:\n\u001B[0;32m--> 768\u001B[0m     vjps1 \u001B[38;5;241m=\u001B[39m \u001B[43m_compute_analytical_jacobian_rows\u001B[49m\u001B[43m(\u001B[49m\u001B[43mvjp_fn\u001B[49m\u001B[43m,\u001B[49m\u001B[43m \u001B[49m\u001B[43moutput\u001B[49m\u001B[38;5;241;43m.\u001B[39;49m\u001B[43mclone\u001B[49m\u001B[43m(\u001B[49m\u001B[43m)\u001B[49m\u001B[43m)\u001B[49m\n\u001B[1;32m    769\u001B[0m     vjps2 \u001B[38;5;241m=\u001B[39m _compute_analytical_jacobian_rows(vjp_fn, output\u001B[38;5;241m.\u001B[39mclone())\n\u001B[1;32m    771\u001B[0m output_numel \u001B[38;5;241m=\u001B[39m output\u001B[38;5;241m.\u001B[39mnumel() \u001B[38;5;28;01mif\u001B[39;00m \u001B[38;5;129;01mnot\u001B[39;00m fast_mode \u001B[38;5;28;01melse\u001B[39;00m \u001B[38;5;241m1\u001B[39m\n",
      "File \u001B[0;32m/users/nfs/Enseignants/piwowarski/venv/deepdac/lib/python3.9/site-packages/torch/autograd/gradcheck.py:884\u001B[0m, in \u001B[0;36m_compute_analytical_jacobian_rows\u001B[0;34m(vjp_fn, sample_output)\u001B[0m\n\u001B[1;32m    882\u001B[0m flat_grad_out\u001B[38;5;241m.\u001B[39mzero_()\n\u001B[1;32m    883\u001B[0m flat_grad_out[j] \u001B[38;5;241m=\u001B[39m \u001B[38;5;241m1.0\u001B[39m\n\u001B[0;32m--> 884\u001B[0m grad_inputs \u001B[38;5;241m=\u001B[39m \u001B[43mvjp_fn\u001B[49m\u001B[43m(\u001B[49m\u001B[43mgrad_out_base\u001B[49m\u001B[43m)\u001B[49m\n\u001B[1;32m    885\u001B[0m \u001B[38;5;28;01mfor\u001B[39;00m i, d_x \u001B[38;5;129;01min\u001B[39;00m \u001B[38;5;28menumerate\u001B[39m(grad_inputs):\n\u001B[1;32m    886\u001B[0m     \u001B[38;5;28;01mif\u001B[39;00m j \u001B[38;5;241m==\u001B[39m \u001B[38;5;241m0\u001B[39m:\n",
      "File \u001B[0;32m/users/nfs/Enseignants/piwowarski/venv/deepdac/lib/python3.9/site-packages/torch/autograd/gradcheck.py:759\u001B[0m, in \u001B[0;36m_check_analytical_jacobian_attributes.<locals>.vjp_fn\u001B[0;34m(grad_output)\u001B[0m\n\u001B[1;32m    758\u001B[0m \u001B[38;5;28;01mdef\u001B[39;00m \u001B[38;5;21mvjp_fn\u001B[39m(grad_output):\n\u001B[0;32m--> 759\u001B[0m     \u001B[38;5;28;01mreturn\u001B[39;00m \u001B[43mtorch\u001B[49m\u001B[38;5;241;43m.\u001B[39;49m\u001B[43mautograd\u001B[49m\u001B[38;5;241;43m.\u001B[39;49m\u001B[43mgrad\u001B[49m\u001B[43m(\u001B[49m\n\u001B[1;32m    760\u001B[0m \u001B[43m        \u001B[49m\u001B[43moutput\u001B[49m\u001B[43m,\u001B[49m\u001B[43m \u001B[49m\u001B[43mdiff_input_list\u001B[49m\u001B[43m,\u001B[49m\u001B[43m \u001B[49m\u001B[43mgrad_output\u001B[49m\u001B[43m,\u001B[49m\u001B[43m \u001B[49m\u001B[43mretain_graph\u001B[49m\u001B[38;5;241;43m=\u001B[39;49m\u001B[38;5;28;43;01mTrue\u001B[39;49;00m\u001B[43m,\u001B[49m\u001B[43m \u001B[49m\u001B[43mallow_unused\u001B[49m\u001B[38;5;241;43m=\u001B[39;49m\u001B[38;5;28;43;01mTrue\u001B[39;49;00m\n\u001B[1;32m    761\u001B[0m \u001B[43m    \u001B[49m\u001B[43m)\u001B[49m\n",
      "File \u001B[0;32m/users/nfs/Enseignants/piwowarski/venv/deepdac/lib/python3.9/site-packages/torch/autograd/__init__.py:394\u001B[0m, in \u001B[0;36mgrad\u001B[0;34m(outputs, inputs, grad_outputs, retain_graph, create_graph, only_inputs, allow_unused, is_grads_batched, materialize_grads)\u001B[0m\n\u001B[1;32m    390\u001B[0m     result \u001B[38;5;241m=\u001B[39m _vmap_internals\u001B[38;5;241m.\u001B[39m_vmap(vjp, \u001B[38;5;241m0\u001B[39m, \u001B[38;5;241m0\u001B[39m, allow_none_pass_through\u001B[38;5;241m=\u001B[39m\u001B[38;5;28;01mTrue\u001B[39;00m)(\n\u001B[1;32m    391\u001B[0m         grad_outputs_\n\u001B[1;32m    392\u001B[0m     )\n\u001B[1;32m    393\u001B[0m \u001B[38;5;28;01melse\u001B[39;00m:\n\u001B[0;32m--> 394\u001B[0m     result \u001B[38;5;241m=\u001B[39m \u001B[43mVariable\u001B[49m\u001B[38;5;241;43m.\u001B[39;49m\u001B[43m_execution_engine\u001B[49m\u001B[38;5;241;43m.\u001B[39;49m\u001B[43mrun_backward\u001B[49m\u001B[43m(\u001B[49m\u001B[43m  \u001B[49m\u001B[38;5;66;43;03m# Calls into the C++ engine to run the backward pass\u001B[39;49;00m\n\u001B[1;32m    395\u001B[0m \u001B[43m        \u001B[49m\u001B[43mt_outputs\u001B[49m\u001B[43m,\u001B[49m\n\u001B[1;32m    396\u001B[0m \u001B[43m        \u001B[49m\u001B[43mgrad_outputs_\u001B[49m\u001B[43m,\u001B[49m\n\u001B[1;32m    397\u001B[0m \u001B[43m        \u001B[49m\u001B[43mretain_graph\u001B[49m\u001B[43m,\u001B[49m\n\u001B[1;32m    398\u001B[0m \u001B[43m        \u001B[49m\u001B[43mcreate_graph\u001B[49m\u001B[43m,\u001B[49m\n\u001B[1;32m    399\u001B[0m \u001B[43m        \u001B[49m\u001B[43mt_inputs\u001B[49m\u001B[43m,\u001B[49m\n\u001B[1;32m    400\u001B[0m \u001B[43m        \u001B[49m\u001B[43mallow_unused\u001B[49m\u001B[43m,\u001B[49m\n\u001B[1;32m    401\u001B[0m \u001B[43m        \u001B[49m\u001B[43maccumulate_grad\u001B[49m\u001B[38;5;241;43m=\u001B[39;49m\u001B[38;5;28;43;01mFalse\u001B[39;49;00m\u001B[43m,\u001B[49m\n\u001B[1;32m    402\u001B[0m \u001B[43m    \u001B[49m\u001B[43m)\u001B[49m  \u001B[38;5;66;03m# Calls into the C++ engine to run the backward pass\u001B[39;00m\n\u001B[1;32m    403\u001B[0m \u001B[38;5;28;01mif\u001B[39;00m materialize_grads:\n\u001B[1;32m    404\u001B[0m     result \u001B[38;5;241m=\u001B[39m \u001B[38;5;28mtuple\u001B[39m(\n\u001B[1;32m    405\u001B[0m         output\n\u001B[1;32m    406\u001B[0m         \u001B[38;5;28;01mif\u001B[39;00m output \u001B[38;5;129;01mis\u001B[39;00m \u001B[38;5;129;01mnot\u001B[39;00m \u001B[38;5;28;01mNone\u001B[39;00m\n\u001B[1;32m    407\u001B[0m         \u001B[38;5;28;01melse\u001B[39;00m torch\u001B[38;5;241m.\u001B[39mzeros_like(\u001B[38;5;28minput\u001B[39m, requires_grad\u001B[38;5;241m=\u001B[39m\u001B[38;5;28;01mTrue\u001B[39;00m)\n\u001B[1;32m    408\u001B[0m         \u001B[38;5;28;01mfor\u001B[39;00m (output, \u001B[38;5;28minput\u001B[39m) \u001B[38;5;129;01min\u001B[39;00m \u001B[38;5;28mzip\u001B[39m(result, t_inputs)\n\u001B[1;32m    409\u001B[0m     )\n",
      "File \u001B[0;32m/users/nfs/Enseignants/piwowarski/venv/deepdac/lib/python3.9/site-packages/torch/autograd/function.py:288\u001B[0m, in \u001B[0;36mBackwardCFunction.apply\u001B[0;34m(self, *args)\u001B[0m\n\u001B[1;32m    282\u001B[0m     \u001B[38;5;28;01mraise\u001B[39;00m \u001B[38;5;167;01mRuntimeError\u001B[39;00m(\n\u001B[1;32m    283\u001B[0m         \u001B[38;5;124m\"\u001B[39m\u001B[38;5;124mImplementing both \u001B[39m\u001B[38;5;124m'\u001B[39m\u001B[38;5;124mbackward\u001B[39m\u001B[38;5;124m'\u001B[39m\u001B[38;5;124m and \u001B[39m\u001B[38;5;124m'\u001B[39m\u001B[38;5;124mvjp\u001B[39m\u001B[38;5;124m'\u001B[39m\u001B[38;5;124m for a custom \u001B[39m\u001B[38;5;124m\"\u001B[39m\n\u001B[1;32m    284\u001B[0m         \u001B[38;5;124m\"\u001B[39m\u001B[38;5;124mFunction is not allowed. You should only implement one \u001B[39m\u001B[38;5;124m\"\u001B[39m\n\u001B[1;32m    285\u001B[0m         \u001B[38;5;124m\"\u001B[39m\u001B[38;5;124mof them.\u001B[39m\u001B[38;5;124m\"\u001B[39m\n\u001B[1;32m    286\u001B[0m     )\n\u001B[1;32m    287\u001B[0m user_fn \u001B[38;5;241m=\u001B[39m vjp_fn \u001B[38;5;28;01mif\u001B[39;00m vjp_fn \u001B[38;5;129;01mis\u001B[39;00m \u001B[38;5;129;01mnot\u001B[39;00m Function\u001B[38;5;241m.\u001B[39mvjp \u001B[38;5;28;01melse\u001B[39;00m backward_fn\n\u001B[0;32m--> 288\u001B[0m \u001B[38;5;28;01mreturn\u001B[39;00m \u001B[43muser_fn\u001B[49m\u001B[43m(\u001B[49m\u001B[38;5;28;43mself\u001B[39;49m\u001B[43m,\u001B[49m\u001B[43m \u001B[49m\u001B[38;5;241;43m*\u001B[39;49m\u001B[43margs\u001B[49m\u001B[43m)\u001B[49m\n",
      "File \u001B[0;32m/users/nfs/Etu6/21214576/PLDAC_Splade_GPU_Calculate/src/optim_relu_max_linear/optim_relu_max_linear_v.py:190\u001B[0m, in \u001B[0;36mOptimReluMaxLinearV.backward\u001B[0;34m(ctx, *grad_outputs)\u001B[0m\n\u001B[1;32m    187\u001B[0m grad_x \u001B[38;5;241m=\u001B[39m grad_weight \u001B[38;5;241m=\u001B[39m grad_bias \u001B[38;5;241m=\u001B[39m \u001B[38;5;28;01mNone\u001B[39;00m\n\u001B[1;32m    189\u001B[0m \u001B[38;5;28;01mif\u001B[39;00m ctx\u001B[38;5;241m.\u001B[39mneeds_input_grad[\u001B[38;5;241m0\u001B[39m]:\n\u001B[0;32m--> 190\u001B[0m     grad_x \u001B[38;5;241m=\u001B[39m \u001B[43mcompute_gradient_x\u001B[49m\u001B[43m(\u001B[49m\u001B[43mlist_triplet\u001B[49m\u001B[43m,\u001B[49m\u001B[43m \u001B[49m\u001B[43mgrad_outputs\u001B[49m\u001B[43m[\u001B[49m\u001B[38;5;241;43m0\u001B[39;49m\u001B[43m]\u001B[49m\u001B[38;5;241;43m.\u001B[39;49m\u001B[43mclone\u001B[49m\u001B[43m(\u001B[49m\u001B[43m)\u001B[49m\u001B[43m,\u001B[49m\u001B[43m \u001B[49m\u001B[43mweight\u001B[49m\u001B[43m,\u001B[49m\u001B[43m \u001B[49m\u001B[43mtorch\u001B[49m\u001B[38;5;241;43m.\u001B[39;49m\u001B[43mzeros_like\u001B[49m\u001B[43m(\u001B[49m\u001B[43mx\u001B[49m\u001B[43m)\u001B[49m\u001B[43m)\u001B[49m\n\u001B[1;32m    192\u001B[0m \u001B[38;5;28;01mif\u001B[39;00m ctx\u001B[38;5;241m.\u001B[39mneeds_input_grad[\u001B[38;5;241m1\u001B[39m]:\n\u001B[1;32m    193\u001B[0m     grad_weight \u001B[38;5;241m=\u001B[39m compute_gradient_w(list_triplet, grad_outputs[\u001B[38;5;241m0\u001B[39m]\u001B[38;5;241m.\u001B[39mclone(), x, torch\u001B[38;5;241m.\u001B[39mzeros_like(weight))\n",
      "File \u001B[0;32m/users/nfs/Etu6/21214576/PLDAC_Splade_GPU_Calculate/src/optim_relu_max_linear/optim_relu_max_linear_v.py:131\u001B[0m, in \u001B[0;36mcompute_gradient_x\u001B[0;34m(index, delta, w, grad_x)\u001B[0m\n\u001B[1;32m    128\u001B[0m     num_warps \u001B[38;5;241m=\u001B[39m \u001B[38;5;241m16\u001B[39m\n\u001B[1;32m    130\u001B[0m grid \u001B[38;5;241m=\u001B[39m \u001B[38;5;28;01mlambda\u001B[39;00m meta: (triton\u001B[38;5;241m.\u001B[39mcdiv(B, meta[\u001B[38;5;124m'\u001B[39m\u001B[38;5;124mBLOCK_SIZE_B\u001B[39m\u001B[38;5;124m'\u001B[39m]), )\n\u001B[0;32m--> 131\u001B[0m \u001B[43mgradient_x_kernel\u001B[49m\u001B[43m[\u001B[49m\u001B[43mgrid\u001B[49m\u001B[43m]\u001B[49m\u001B[43m(\u001B[49m\u001B[43meffective_indice\u001B[49m\u001B[43m,\u001B[49m\u001B[43m \u001B[49m\u001B[43mmask_effective_indice\u001B[49m\u001B[43m,\u001B[49m\u001B[43m \u001B[49m\u001B[43mgrad_x\u001B[49m\u001B[43m,\u001B[49m\u001B[43m \u001B[49m\u001B[43mdelta\u001B[49m\u001B[43m,\u001B[49m\u001B[43m \u001B[49m\u001B[43mw\u001B[49m\u001B[43m,\u001B[49m\n\u001B[1;32m    132\u001B[0m \u001B[43m                        \u001B[49m\u001B[43mD\u001B[49m\u001B[43m,\u001B[49m\u001B[43m \u001B[49m\u001B[43mB\u001B[49m\u001B[43m,\u001B[49m\u001B[43m \u001B[49m\u001B[43meffective_indice\u001B[49m\u001B[38;5;241;43m.\u001B[39;49m\u001B[43mshape\u001B[49m\u001B[43m[\u001B[49m\u001B[38;5;241;43m1\u001B[39;49m\u001B[43m]\u001B[49m\u001B[43m,\u001B[49m\n\u001B[1;32m    133\u001B[0m \u001B[43m                        \u001B[49m\u001B[43meffective_indice\u001B[49m\u001B[38;5;241;43m.\u001B[39;49m\u001B[43mstride\u001B[49m\u001B[43m(\u001B[49m\u001B[38;5;241;43m0\u001B[39;49m\u001B[43m)\u001B[49m\u001B[43m,\u001B[49m\u001B[43m \u001B[49m\u001B[43meffective_indice\u001B[49m\u001B[38;5;241;43m.\u001B[39;49m\u001B[43mstride\u001B[49m\u001B[43m(\u001B[49m\u001B[38;5;241;43m1\u001B[39;49m\u001B[43m)\u001B[49m\u001B[43m,\u001B[49m\u001B[43m \u001B[49m\u001B[43meffective_indice\u001B[49m\u001B[38;5;241;43m.\u001B[39;49m\u001B[43mstride\u001B[49m\u001B[43m(\u001B[49m\u001B[38;5;241;43m2\u001B[39;49m\u001B[43m)\u001B[49m\u001B[43m,\u001B[49m\n\u001B[1;32m    134\u001B[0m \u001B[43m                        \u001B[49m\u001B[43mgrad_x\u001B[49m\u001B[38;5;241;43m.\u001B[39;49m\u001B[43mstride\u001B[49m\u001B[43m(\u001B[49m\u001B[38;5;241;43m0\u001B[39;49m\u001B[43m)\u001B[49m\u001B[43m,\u001B[49m\u001B[43m \u001B[49m\u001B[43mgrad_x\u001B[49m\u001B[38;5;241;43m.\u001B[39;49m\u001B[43mstride\u001B[49m\u001B[43m(\u001B[49m\u001B[38;5;241;43m1\u001B[39;49m\u001B[43m)\u001B[49m\u001B[43m,\u001B[49m\u001B[43m \u001B[49m\u001B[43mgrad_x\u001B[49m\u001B[38;5;241;43m.\u001B[39;49m\u001B[43mstride\u001B[49m\u001B[43m(\u001B[49m\u001B[38;5;241;43m2\u001B[39;49m\u001B[43m)\u001B[49m\u001B[43m,\u001B[49m\n\u001B[1;32m    135\u001B[0m \u001B[43m                        \u001B[49m\u001B[43mdelta\u001B[49m\u001B[38;5;241;43m.\u001B[39;49m\u001B[43mstride\u001B[49m\u001B[43m(\u001B[49m\u001B[38;5;241;43m0\u001B[39;49m\u001B[43m)\u001B[49m\u001B[43m,\u001B[49m\u001B[43m \u001B[49m\u001B[43mdelta\u001B[49m\u001B[38;5;241;43m.\u001B[39;49m\u001B[43mstride\u001B[49m\u001B[43m(\u001B[49m\u001B[38;5;241;43m1\u001B[39;49m\u001B[43m)\u001B[49m\u001B[43m,\u001B[49m\n\u001B[1;32m    136\u001B[0m \u001B[43m                        \u001B[49m\u001B[43mw\u001B[49m\u001B[38;5;241;43m.\u001B[39;49m\u001B[43mstride\u001B[49m\u001B[43m(\u001B[49m\u001B[38;5;241;43m0\u001B[39;49m\u001B[43m)\u001B[49m\u001B[43m,\u001B[49m\u001B[43m \u001B[49m\u001B[43mw\u001B[49m\u001B[38;5;241;43m.\u001B[39;49m\u001B[43mstride\u001B[49m\u001B[43m(\u001B[49m\u001B[38;5;241;43m1\u001B[39;49m\u001B[43m)\u001B[49m\u001B[43m,\u001B[49m\n\u001B[1;32m    137\u001B[0m \u001B[43m                        \u001B[49m\u001B[43mnum_warps\u001B[49m\u001B[38;5;241;43m=\u001B[39;49m\u001B[43mnum_warps\u001B[49m\u001B[43m,\u001B[49m\n\u001B[1;32m    138\u001B[0m \u001B[43m                        \u001B[49m\u001B[43mBLOCK_SIZE_B\u001B[49m\u001B[38;5;241;43m=\u001B[39;49m\u001B[43mBLOCK_SIZE_B\u001B[49m\u001B[43m)\u001B[49m\n\u001B[1;32m    140\u001B[0m torch\u001B[38;5;241m.\u001B[39mcuda\u001B[38;5;241m.\u001B[39mempty_cache()\n\u001B[1;32m    142\u001B[0m \u001B[38;5;28;01mreturn\u001B[39;00m grad_x\u001B[38;5;241m.\u001B[39mclone()\u001B[38;5;241m.\u001B[39mdetach()\u001B[38;5;241m.\u001B[39mrequires_grad_(\u001B[38;5;28;01mTrue\u001B[39;00m)\n",
      "File \u001B[0;32m<string>:63\u001B[0m, in \u001B[0;36mgradient_x_kernel\u001B[0;34m(index_ptr, index_mask_ptr, grad_ptr, delta_ptr, w_ptr, D, B, MAX_N_INDEX, stride_index_dim0, stride_index_dim1, stride_index_dim2, stride_grad_b, stride_grad_lmax, stride_grad_d, stride_delta_b, stride_delta_v, stride_w_d, stride_w_v, BLOCK_SIZE_B, grid, num_warps, num_stages, extern_libs, stream, warmup, device, device_type)\u001B[0m\n",
      "File \u001B[0;32m/users/nfs/Enseignants/piwowarski/venv/deepdac/lib/python3.9/site-packages/triton/compiler/compiler.py:425\u001B[0m, in \u001B[0;36mcompile\u001B[0;34m(fn, **kwargs)\u001B[0m\n\u001B[1;32m    423\u001B[0m \u001B[38;5;66;03m# cache manager\u001B[39;00m\n\u001B[1;32m    424\u001B[0m \u001B[38;5;28;01mif\u001B[39;00m is_cuda \u001B[38;5;129;01mor\u001B[39;00m is_hip:\n\u001B[0;32m--> 425\u001B[0m     so_path \u001B[38;5;241m=\u001B[39m \u001B[43mmake_stub\u001B[49m\u001B[43m(\u001B[49m\u001B[43mname\u001B[49m\u001B[43m,\u001B[49m\u001B[43m \u001B[49m\u001B[43msignature\u001B[49m\u001B[43m,\u001B[49m\u001B[43m \u001B[49m\u001B[43mconstants\u001B[49m\u001B[43m)\u001B[49m\n\u001B[1;32m    426\u001B[0m \u001B[38;5;28;01melse\u001B[39;00m:\n\u001B[1;32m    427\u001B[0m     so_path \u001B[38;5;241m=\u001B[39m _device_backend\u001B[38;5;241m.\u001B[39mmake_launcher_stub(name, signature, constants)\n",
      "File \u001B[0;32m/users/nfs/Enseignants/piwowarski/venv/deepdac/lib/python3.9/site-packages/triton/compiler/make_launcher.py:39\u001B[0m, in \u001B[0;36mmake_stub\u001B[0;34m(name, signature, constants)\u001B[0m\n\u001B[1;32m     37\u001B[0m \u001B[38;5;28;01mwith\u001B[39;00m \u001B[38;5;28mopen\u001B[39m(src_path, \u001B[38;5;124m\"\u001B[39m\u001B[38;5;124mw\u001B[39m\u001B[38;5;124m\"\u001B[39m) \u001B[38;5;28;01mas\u001B[39;00m f:\n\u001B[1;32m     38\u001B[0m     f\u001B[38;5;241m.\u001B[39mwrite(src)\n\u001B[0;32m---> 39\u001B[0m so \u001B[38;5;241m=\u001B[39m \u001B[43m_build\u001B[49m\u001B[43m(\u001B[49m\u001B[43mname\u001B[49m\u001B[43m,\u001B[49m\u001B[43m \u001B[49m\u001B[43msrc_path\u001B[49m\u001B[43m,\u001B[49m\u001B[43m \u001B[49m\u001B[43mtmpdir\u001B[49m\u001B[43m)\u001B[49m\n\u001B[1;32m     40\u001B[0m \u001B[38;5;28;01mwith\u001B[39;00m \u001B[38;5;28mopen\u001B[39m(so, \u001B[38;5;124m\"\u001B[39m\u001B[38;5;124mrb\u001B[39m\u001B[38;5;124m\"\u001B[39m) \u001B[38;5;28;01mas\u001B[39;00m f:\n\u001B[1;32m     41\u001B[0m     \u001B[38;5;28;01mreturn\u001B[39;00m so_cache_manager\u001B[38;5;241m.\u001B[39mput(f\u001B[38;5;241m.\u001B[39mread(), so_name, binary\u001B[38;5;241m=\u001B[39m\u001B[38;5;28;01mTrue\u001B[39;00m)\n",
      "File \u001B[0;32m/users/nfs/Enseignants/piwowarski/venv/deepdac/lib/python3.9/site-packages/triton/common/build.py:61\u001B[0m, in \u001B[0;36m_build\u001B[0;34m(name, src, srcdir)\u001B[0m\n\u001B[1;32m     59\u001B[0m     hip_include_dir \u001B[38;5;241m=\u001B[39m os\u001B[38;5;241m.\u001B[39mpath\u001B[38;5;241m.\u001B[39mjoin(rocm_path_dir(), \u001B[38;5;124m\"\u001B[39m\u001B[38;5;124minclude\u001B[39m\u001B[38;5;124m\"\u001B[39m)\n\u001B[1;32m     60\u001B[0m \u001B[38;5;28;01melse\u001B[39;00m:\n\u001B[0;32m---> 61\u001B[0m     cuda_lib_dirs \u001B[38;5;241m=\u001B[39m \u001B[43mlibcuda_dirs\u001B[49m\u001B[43m(\u001B[49m\u001B[43m)\u001B[49m\n\u001B[1;32m     62\u001B[0m     cu_include_dir \u001B[38;5;241m=\u001B[39m cuda_include_dir()\n\u001B[1;32m     63\u001B[0m suffix \u001B[38;5;241m=\u001B[39m sysconfig\u001B[38;5;241m.\u001B[39mget_config_var(\u001B[38;5;124m'\u001B[39m\u001B[38;5;124mEXT_SUFFIX\u001B[39m\u001B[38;5;124m'\u001B[39m)\n",
      "File \u001B[0;32m/users/nfs/Enseignants/piwowarski/venv/deepdac/lib/python3.9/site-packages/triton/common/build.py:21\u001B[0m, in \u001B[0;36mlibcuda_dirs\u001B[0;34m()\u001B[0m\n\u001B[1;32m     19\u001B[0m \u001B[38;5;129m@functools\u001B[39m\u001B[38;5;241m.\u001B[39mlru_cache()\n\u001B[1;32m     20\u001B[0m \u001B[38;5;28;01mdef\u001B[39;00m \u001B[38;5;21mlibcuda_dirs\u001B[39m():\n\u001B[0;32m---> 21\u001B[0m     libs \u001B[38;5;241m=\u001B[39m \u001B[43msubprocess\u001B[49m\u001B[38;5;241;43m.\u001B[39;49m\u001B[43mcheck_output\u001B[49m\u001B[43m(\u001B[49m\u001B[43m[\u001B[49m\u001B[38;5;124;43m\"\u001B[39;49m\u001B[38;5;124;43mldconfig\u001B[39;49m\u001B[38;5;124;43m\"\u001B[39;49m\u001B[43m,\u001B[49m\u001B[43m \u001B[49m\u001B[38;5;124;43m\"\u001B[39;49m\u001B[38;5;124;43m-p\u001B[39;49m\u001B[38;5;124;43m\"\u001B[39;49m\u001B[43m]\u001B[49m\u001B[43m)\u001B[49m\u001B[38;5;241m.\u001B[39mdecode()\n\u001B[1;32m     22\u001B[0m     \u001B[38;5;66;03m# each line looks like the following:\u001B[39;00m\n\u001B[1;32m     23\u001B[0m     \u001B[38;5;66;03m# libcuda.so.1 (libc6,x86-64) => /lib/x86_64-linux-gnu/libcuda.so.1\u001B[39;00m\n\u001B[1;32m     24\u001B[0m     locs \u001B[38;5;241m=\u001B[39m [line\u001B[38;5;241m.\u001B[39msplit()[\u001B[38;5;241m-\u001B[39m\u001B[38;5;241m1\u001B[39m] \u001B[38;5;28;01mfor\u001B[39;00m line \u001B[38;5;129;01min\u001B[39;00m libs\u001B[38;5;241m.\u001B[39msplitlines() \u001B[38;5;28;01mif\u001B[39;00m \u001B[38;5;124m\"\u001B[39m\u001B[38;5;124mlibcuda.so\u001B[39m\u001B[38;5;124m\"\u001B[39m \u001B[38;5;129;01min\u001B[39;00m line]\n",
      "File \u001B[0;32m/usr/local/lib/python3.9/subprocess.py:424\u001B[0m, in \u001B[0;36mcheck_output\u001B[0;34m(timeout, *popenargs, **kwargs)\u001B[0m\n\u001B[1;32m    421\u001B[0m         empty \u001B[38;5;241m=\u001B[39m \u001B[38;5;124mb\u001B[39m\u001B[38;5;124m'\u001B[39m\u001B[38;5;124m'\u001B[39m\n\u001B[1;32m    422\u001B[0m     kwargs[\u001B[38;5;124m'\u001B[39m\u001B[38;5;124minput\u001B[39m\u001B[38;5;124m'\u001B[39m] \u001B[38;5;241m=\u001B[39m empty\n\u001B[0;32m--> 424\u001B[0m \u001B[38;5;28;01mreturn\u001B[39;00m \u001B[43mrun\u001B[49m\u001B[43m(\u001B[49m\u001B[38;5;241;43m*\u001B[39;49m\u001B[43mpopenargs\u001B[49m\u001B[43m,\u001B[49m\u001B[43m \u001B[49m\u001B[43mstdout\u001B[49m\u001B[38;5;241;43m=\u001B[39;49m\u001B[43mPIPE\u001B[49m\u001B[43m,\u001B[49m\u001B[43m \u001B[49m\u001B[43mtimeout\u001B[49m\u001B[38;5;241;43m=\u001B[39;49m\u001B[43mtimeout\u001B[49m\u001B[43m,\u001B[49m\u001B[43m \u001B[49m\u001B[43mcheck\u001B[49m\u001B[38;5;241;43m=\u001B[39;49m\u001B[38;5;28;43;01mTrue\u001B[39;49;00m\u001B[43m,\u001B[49m\n\u001B[1;32m    425\u001B[0m \u001B[43m           \u001B[49m\u001B[38;5;241;43m*\u001B[39;49m\u001B[38;5;241;43m*\u001B[39;49m\u001B[43mkwargs\u001B[49m\u001B[43m)\u001B[49m\u001B[38;5;241m.\u001B[39mstdout\n",
      "File \u001B[0;32m/usr/local/lib/python3.9/subprocess.py:505\u001B[0m, in \u001B[0;36mrun\u001B[0;34m(input, capture_output, timeout, check, *popenargs, **kwargs)\u001B[0m\n\u001B[1;32m    502\u001B[0m     kwargs[\u001B[38;5;124m'\u001B[39m\u001B[38;5;124mstdout\u001B[39m\u001B[38;5;124m'\u001B[39m] \u001B[38;5;241m=\u001B[39m PIPE\n\u001B[1;32m    503\u001B[0m     kwargs[\u001B[38;5;124m'\u001B[39m\u001B[38;5;124mstderr\u001B[39m\u001B[38;5;124m'\u001B[39m] \u001B[38;5;241m=\u001B[39m PIPE\n\u001B[0;32m--> 505\u001B[0m \u001B[38;5;28;01mwith\u001B[39;00m \u001B[43mPopen\u001B[49m\u001B[43m(\u001B[49m\u001B[38;5;241;43m*\u001B[39;49m\u001B[43mpopenargs\u001B[49m\u001B[43m,\u001B[49m\u001B[43m \u001B[49m\u001B[38;5;241;43m*\u001B[39;49m\u001B[38;5;241;43m*\u001B[39;49m\u001B[43mkwargs\u001B[49m\u001B[43m)\u001B[49m \u001B[38;5;28;01mas\u001B[39;00m process:\n\u001B[1;32m    506\u001B[0m     \u001B[38;5;28;01mtry\u001B[39;00m:\n\u001B[1;32m    507\u001B[0m         stdout, stderr \u001B[38;5;241m=\u001B[39m process\u001B[38;5;241m.\u001B[39mcommunicate(\u001B[38;5;28minput\u001B[39m, timeout\u001B[38;5;241m=\u001B[39mtimeout)\n",
      "File \u001B[0;32m/usr/local/lib/python3.9/subprocess.py:951\u001B[0m, in \u001B[0;36mPopen.__init__\u001B[0;34m(self, args, bufsize, executable, stdin, stdout, stderr, preexec_fn, close_fds, shell, cwd, env, universal_newlines, startupinfo, creationflags, restore_signals, start_new_session, pass_fds, user, group, extra_groups, encoding, errors, text, umask)\u001B[0m\n\u001B[1;32m    947\u001B[0m         \u001B[38;5;28;01mif\u001B[39;00m \u001B[38;5;28mself\u001B[39m\u001B[38;5;241m.\u001B[39mtext_mode:\n\u001B[1;32m    948\u001B[0m             \u001B[38;5;28mself\u001B[39m\u001B[38;5;241m.\u001B[39mstderr \u001B[38;5;241m=\u001B[39m io\u001B[38;5;241m.\u001B[39mTextIOWrapper(\u001B[38;5;28mself\u001B[39m\u001B[38;5;241m.\u001B[39mstderr,\n\u001B[1;32m    949\u001B[0m                     encoding\u001B[38;5;241m=\u001B[39mencoding, errors\u001B[38;5;241m=\u001B[39merrors)\n\u001B[0;32m--> 951\u001B[0m     \u001B[38;5;28;43mself\u001B[39;49m\u001B[38;5;241;43m.\u001B[39;49m\u001B[43m_execute_child\u001B[49m\u001B[43m(\u001B[49m\u001B[43margs\u001B[49m\u001B[43m,\u001B[49m\u001B[43m \u001B[49m\u001B[43mexecutable\u001B[49m\u001B[43m,\u001B[49m\u001B[43m \u001B[49m\u001B[43mpreexec_fn\u001B[49m\u001B[43m,\u001B[49m\u001B[43m \u001B[49m\u001B[43mclose_fds\u001B[49m\u001B[43m,\u001B[49m\n\u001B[1;32m    952\u001B[0m \u001B[43m                        \u001B[49m\u001B[43mpass_fds\u001B[49m\u001B[43m,\u001B[49m\u001B[43m \u001B[49m\u001B[43mcwd\u001B[49m\u001B[43m,\u001B[49m\u001B[43m \u001B[49m\u001B[43menv\u001B[49m\u001B[43m,\u001B[49m\n\u001B[1;32m    953\u001B[0m \u001B[43m                        \u001B[49m\u001B[43mstartupinfo\u001B[49m\u001B[43m,\u001B[49m\u001B[43m \u001B[49m\u001B[43mcreationflags\u001B[49m\u001B[43m,\u001B[49m\u001B[43m \u001B[49m\u001B[43mshell\u001B[49m\u001B[43m,\u001B[49m\n\u001B[1;32m    954\u001B[0m \u001B[43m                        \u001B[49m\u001B[43mp2cread\u001B[49m\u001B[43m,\u001B[49m\u001B[43m \u001B[49m\u001B[43mp2cwrite\u001B[49m\u001B[43m,\u001B[49m\n\u001B[1;32m    955\u001B[0m \u001B[43m                        \u001B[49m\u001B[43mc2pread\u001B[49m\u001B[43m,\u001B[49m\u001B[43m \u001B[49m\u001B[43mc2pwrite\u001B[49m\u001B[43m,\u001B[49m\n\u001B[1;32m    956\u001B[0m \u001B[43m                        \u001B[49m\u001B[43merrread\u001B[49m\u001B[43m,\u001B[49m\u001B[43m \u001B[49m\u001B[43merrwrite\u001B[49m\u001B[43m,\u001B[49m\n\u001B[1;32m    957\u001B[0m \u001B[43m                        \u001B[49m\u001B[43mrestore_signals\u001B[49m\u001B[43m,\u001B[49m\n\u001B[1;32m    958\u001B[0m \u001B[43m                        \u001B[49m\u001B[43mgid\u001B[49m\u001B[43m,\u001B[49m\u001B[43m \u001B[49m\u001B[43mgids\u001B[49m\u001B[43m,\u001B[49m\u001B[43m \u001B[49m\u001B[43muid\u001B[49m\u001B[43m,\u001B[49m\u001B[43m \u001B[49m\u001B[43mumask\u001B[49m\u001B[43m,\u001B[49m\n\u001B[1;32m    959\u001B[0m \u001B[43m                        \u001B[49m\u001B[43mstart_new_session\u001B[49m\u001B[43m)\u001B[49m\n\u001B[1;32m    960\u001B[0m \u001B[38;5;28;01mexcept\u001B[39;00m:\n\u001B[1;32m    961\u001B[0m     \u001B[38;5;66;03m# Cleanup if the child failed starting.\u001B[39;00m\n\u001B[1;32m    962\u001B[0m     \u001B[38;5;28;01mfor\u001B[39;00m f \u001B[38;5;129;01min\u001B[39;00m \u001B[38;5;28mfilter\u001B[39m(\u001B[38;5;28;01mNone\u001B[39;00m, (\u001B[38;5;28mself\u001B[39m\u001B[38;5;241m.\u001B[39mstdin, \u001B[38;5;28mself\u001B[39m\u001B[38;5;241m.\u001B[39mstdout, \u001B[38;5;28mself\u001B[39m\u001B[38;5;241m.\u001B[39mstderr)):\n",
      "File \u001B[0;32m/usr/local/lib/python3.9/subprocess.py:1821\u001B[0m, in \u001B[0;36mPopen._execute_child\u001B[0;34m(self, args, executable, preexec_fn, close_fds, pass_fds, cwd, env, startupinfo, creationflags, shell, p2cread, p2cwrite, c2pread, c2pwrite, errread, errwrite, restore_signals, gid, gids, uid, umask, start_new_session)\u001B[0m\n\u001B[1;32m   1819\u001B[0m     \u001B[38;5;28;01mif\u001B[39;00m errno_num \u001B[38;5;241m!=\u001B[39m \u001B[38;5;241m0\u001B[39m:\n\u001B[1;32m   1820\u001B[0m         err_msg \u001B[38;5;241m=\u001B[39m os\u001B[38;5;241m.\u001B[39mstrerror(errno_num)\n\u001B[0;32m-> 1821\u001B[0m     \u001B[38;5;28;01mraise\u001B[39;00m child_exception_type(errno_num, err_msg, err_filename)\n\u001B[1;32m   1822\u001B[0m \u001B[38;5;28;01mraise\u001B[39;00m child_exception_type(err_msg)\n",
      "\u001B[0;31mFileNotFoundError\u001B[0m: [Errno 2] No such file or directory: 'ldconfig'"
     ]
    }
   ],
   "source": [
    "test_optim_splade_model() # oblie ca, elle prend du temps"
   ],
   "metadata": {
    "collapsed": false,
    "ExecuteTime": {
     "end_time": "2024-05-10T12:56:28.675102100Z",
     "start_time": "2024-05-10T12:47:26.196386Z"
    }
   },
   "id": "ed39c9bafc8e0e35",
   "execution_count": 3
  },
  {
   "cell_type": "code",
   "outputs": [],
   "source": [
    "UPPER_LIMIT = 15  ## change ca pour diminuer la consommation de memoire.\n",
    "x_vals = []\n",
    "for i in range(1, UPPER_LIMIT): \n",
    "    x_vals.append([2000 * i, 256, 100, 512])"
   ],
   "metadata": {
    "collapsed": false,
    "ExecuteTime": {
     "end_time": "2024-05-10T14:12:49.072126700Z",
     "start_time": "2024-05-10T14:12:49.014067700Z"
    }
   },
   "id": "4d80423ce9147901",
   "execution_count": 4
  },
  {
   "cell_type": "code",
   "execution_count": 5,
   "outputs": [
    {
     "name": "stdout",
     "output_type": "stream",
     "text": [
      "[(2000, 256, 100, 512), (4000, 256, 100, 512), (6000, 256, 100, 512), (8000, 256, 100, 512), (10000, 256, 100, 512)]\n"
     ]
    }
   ],
   "source": [
    "print(x_vals)"
   ],
   "metadata": {
    "collapsed": false,
    "ExecuteTime": {
     "end_time": "2024-05-10T14:12:49.298146200Z",
     "start_time": "2024-05-10T14:12:49.298146200Z"
    }
   },
   "id": "f6f0f29253a12a65"
  },
  {
   "cell_type": "code",
   "outputs": [],
   "source": [
    "configs = []\n",
    "\n",
    "configs.append(\n",
    "    triton.testing.Benchmark(\n",
    "        x_names=[\"V\", \"B\", \"L\", \"D\"],  # Argument names to use as an x-axis for the plot\n",
    "        x_vals=x_vals,  # Different possible values for `x_name`\n",
    "        line_arg=\"provider\",  # Argument name whose value corresponds to a different line in the plot\n",
    "        # Possible values for `line_arg`\n",
    "        # Don't compare to cublas for fp8 cases as torch.matmul doesn't support fp8 at the moment.\n",
    "        line_vals= [\"torch\", \"triton\"],  # Label name for the lines\n",
    "        line_names= [\"torch\", \"Triton\"],  # Line styles\n",
    "        styles=[(\"green\", \"-\"), (\"blue\", \"-\")],\n",
    "        ylabel=\"GB/s\",  # Label name for the y-axis\n",
    "        plot_name=\"relu_max_backward_performance\",\n",
    "        args={},\n",
    "    ))\n"
   ],
   "metadata": {
    "collapsed": false,
    "ExecuteTime": {
     "end_time": "2024-05-10T14:12:49.774691200Z",
     "start_time": "2024-05-10T14:12:49.727730500Z"
    }
   },
   "id": "af71709b893bc49c",
   "execution_count": 6
  },
  {
   "cell_type": "code",
   "outputs": [],
   "source": [
    "@triton.testing.perf_report(configs)\n",
    "def benchmark(B, L, D, V, provider):\n",
    "    x = torch.randn(B, L, D, requires_grad=True, dtype=torch.float64, device='cuda')\n",
    "    w = torch.randn(D, V, requires_grad=True, dtype=torch.float64, device='cuda')\n",
    "    b = torch.randn(V, requires_grad=True, dtype=torch.float64, device='cuda')\n",
    "    list_lengths = torch.randint(0, L, [B])\n",
    "    mask = torch.ones(B, L).cuda()\n",
    "    for i, l in enumerate(list_lengths):\n",
    "        mask[i, l:] = 0\n",
    "        \n",
    "    mask_inf = torch.where(mask == 1, 0, -torch.inf)\n",
    "    relu = torch.nn.ReLU()\n",
    "    \n",
    "    torch_calculation = relu(torch.max((x @ w) + b.reshape(1, 1, *b.shape) + mask_inf.reshape(*mask_inf.shape, 1), dim=1)[0])\n",
    "    triton_calculation = OptimReluMaxLinear.apply(x, w, b, mask)[0]\n",
    "        \n",
    "    quantiles = [0.5, 0.2, 0.8]\n",
    "    if provider == 'torch':\n",
    "        ms, min_ms, max_ms = triton.testing.do_bench(lambda: torch_calculation.sum().backward(retain_graph=True), quantiles=quantiles)\n",
    "    if provider == 'triton':\n",
    "        ms, min_ms, max_ms = triton.testing.do_bench(lambda: triton_calculation.sum().backward(retain_graph=True) , quantiles=quantiles)\n",
    "    gbps = lambda ms: B * L * D + D * V + V / (ms * 1e-3)\n",
    "    return gbps(ms), gbps(max_ms), gbps(min_ms)"
   ],
   "metadata": {
    "collapsed": false,
    "ExecuteTime": {
     "end_time": "2024-05-10T14:12:50.088254100Z",
     "start_time": "2024-05-10T14:12:50.057020500Z"
    }
   },
   "id": "b87be1a52d8318c5",
   "execution_count": 7
  },
  {
   "cell_type": "code",
   "outputs": [
    {
     "name": "stdout",
     "output_type": "stream",
     "text": [
      "(2000, 256, 100, 512)\n",
      "(2000, 256, 100, 512)\n",
      "(4000, 256, 100, 512)\n",
      "(4000, 256, 100, 512)\n",
      "(6000, 256, 100, 512)\n",
      "(6000, 256, 100, 512)\n",
      "(8000, 256, 100, 512)\n",
      "(8000, 256, 100, 512)\n",
      "(10000, 256, 100, 512)\n",
      "(10000, 256, 100, 512)\n"
     ]
    },
    {
     "ename": "ValueError",
     "evalue": "setting an array element with a sequence.",
     "output_type": "error",
     "traceback": [
      "\u001B[0;31m---------------------------------------------------------------------------\u001B[0m",
      "\u001B[0;31mTypeError\u001B[0m                                 Traceback (most recent call last)",
      "\u001B[0;31mTypeError\u001B[0m: float() argument must be a string or a number, not 'tuple'",
      "\nThe above exception was the direct cause of the following exception:\n",
      "\u001B[0;31mValueError\u001B[0m                                Traceback (most recent call last)",
      "Cell \u001B[0;32mIn [8], line 1\u001B[0m\n\u001B[0;32m----> 1\u001B[0m \u001B[43mbenchmark\u001B[49m\u001B[38;5;241;43m.\u001B[39;49m\u001B[43mrun\u001B[49m\u001B[43m(\u001B[49m\u001B[43mshow_plots\u001B[49m\u001B[38;5;241;43m=\u001B[39;49m\u001B[38;5;28;43;01mTrue\u001B[39;49;00m\u001B[43m,\u001B[49m\u001B[43m \u001B[49m\u001B[43mprint_data\u001B[49m\u001B[38;5;241;43m=\u001B[39;49m\u001B[38;5;28;43;01mTrue\u001B[39;49;00m\u001B[43m)\u001B[49m\n",
      "File \u001B[0;32m/users/nfs/Enseignants/piwowarski/venv/deepdac/lib/python3.9/site-packages/triton/testing.py:321\u001B[0m, in \u001B[0;36mMark.run\u001B[0;34m(self, show_plots, print_data, save_path)\u001B[0m\n\u001B[1;32m    319\u001B[0m     html\u001B[38;5;241m.\u001B[39mwrite(\u001B[38;5;124m\"\u001B[39m\u001B[38;5;124m<html><body>\u001B[39m\u001B[38;5;130;01m\\n\u001B[39;00m\u001B[38;5;124m\"\u001B[39m)\n\u001B[1;32m    320\u001B[0m \u001B[38;5;28;01mfor\u001B[39;00m bench \u001B[38;5;129;01min\u001B[39;00m benchmarks:\n\u001B[0;32m--> 321\u001B[0m     \u001B[38;5;28;43mself\u001B[39;49m\u001B[38;5;241;43m.\u001B[39;49m\u001B[43m_run\u001B[49m\u001B[43m(\u001B[49m\u001B[43mbench\u001B[49m\u001B[43m,\u001B[49m\u001B[43m \u001B[49m\u001B[43msave_path\u001B[49m\u001B[43m,\u001B[49m\u001B[43m \u001B[49m\u001B[43mshow_plots\u001B[49m\u001B[43m,\u001B[49m\u001B[43m \u001B[49m\u001B[43mprint_data\u001B[49m\u001B[43m)\u001B[49m\n\u001B[1;32m    322\u001B[0m     \u001B[38;5;28;01mif\u001B[39;00m save_path:\n\u001B[1;32m    323\u001B[0m         html\u001B[38;5;241m.\u001B[39mwrite(\u001B[38;5;124mf\u001B[39m\u001B[38;5;124m\"\u001B[39m\u001B[38;5;124m<image src=\u001B[39m\u001B[38;5;130;01m\\\"\u001B[39;00m\u001B[38;5;132;01m{\u001B[39;00mbench\u001B[38;5;241m.\u001B[39mplot_name\u001B[38;5;132;01m}\u001B[39;00m\u001B[38;5;124m.png\u001B[39m\u001B[38;5;130;01m\\\"\u001B[39;00m\u001B[38;5;124m/>\u001B[39m\u001B[38;5;130;01m\\n\u001B[39;00m\u001B[38;5;124m\"\u001B[39m)\n",
      "File \u001B[0;32m/users/nfs/Enseignants/piwowarski/venv/deepdac/lib/python3.9/site-packages/triton/testing.py:293\u001B[0m, in \u001B[0;36mMark._run\u001B[0;34m(self, bench, save_path, show_plots, print_data)\u001B[0m\n\u001B[1;32m    291\u001B[0m col \u001B[38;5;241m=\u001B[39m bench\u001B[38;5;241m.\u001B[39mstyles[i][\u001B[38;5;241m0\u001B[39m] \u001B[38;5;28;01mif\u001B[39;00m bench\u001B[38;5;241m.\u001B[39mstyles \u001B[38;5;28;01melse\u001B[39;00m \u001B[38;5;28;01mNone\u001B[39;00m\n\u001B[1;32m    292\u001B[0m sty \u001B[38;5;241m=\u001B[39m bench\u001B[38;5;241m.\u001B[39mstyles[i][\u001B[38;5;241m1\u001B[39m] \u001B[38;5;28;01mif\u001B[39;00m bench\u001B[38;5;241m.\u001B[39mstyles \u001B[38;5;28;01melse\u001B[39;00m \u001B[38;5;28;01mNone\u001B[39;00m\n\u001B[0;32m--> 293\u001B[0m \u001B[43max\u001B[49m\u001B[38;5;241;43m.\u001B[39;49m\u001B[43mplot\u001B[49m\u001B[43m(\u001B[49m\u001B[43mdf\u001B[49m\u001B[43m[\u001B[49m\u001B[43mx\u001B[49m\u001B[43m]\u001B[49m\u001B[43m,\u001B[49m\u001B[43m \u001B[49m\u001B[43mdf\u001B[49m\u001B[43m[\u001B[49m\u001B[43my\u001B[49m\u001B[43m]\u001B[49m\u001B[43m,\u001B[49m\u001B[43m \u001B[49m\u001B[43mlabel\u001B[49m\u001B[38;5;241;43m=\u001B[39;49m\u001B[43my\u001B[49m\u001B[43m,\u001B[49m\u001B[43m \u001B[49m\u001B[43mcolor\u001B[49m\u001B[38;5;241;43m=\u001B[39;49m\u001B[43mcol\u001B[49m\u001B[43m,\u001B[49m\u001B[43m \u001B[49m\u001B[43mls\u001B[49m\u001B[38;5;241;43m=\u001B[39;49m\u001B[43msty\u001B[49m\u001B[43m)\u001B[49m\n\u001B[1;32m    294\u001B[0m \u001B[38;5;28;01mif\u001B[39;00m y_min \u001B[38;5;129;01mis\u001B[39;00m \u001B[38;5;129;01mnot\u001B[39;00m \u001B[38;5;28;01mNone\u001B[39;00m \u001B[38;5;129;01mand\u001B[39;00m y_max \u001B[38;5;129;01mis\u001B[39;00m \u001B[38;5;129;01mnot\u001B[39;00m \u001B[38;5;28;01mNone\u001B[39;00m:\n\u001B[1;32m    295\u001B[0m     ax\u001B[38;5;241m.\u001B[39mfill_between(df[x], y_min, y_max, alpha\u001B[38;5;241m=\u001B[39m\u001B[38;5;241m0.15\u001B[39m, color\u001B[38;5;241m=\u001B[39mcol)\n",
      "File \u001B[0;32m/users/nfs/Enseignants/piwowarski/venv/deepdac/lib/python3.9/site-packages/matplotlib/axes/_axes.py:1664\u001B[0m, in \u001B[0;36mAxes.plot\u001B[0;34m(self, scalex, scaley, data, *args, **kwargs)\u001B[0m\n\u001B[1;32m   1662\u001B[0m lines \u001B[38;5;241m=\u001B[39m [\u001B[38;5;241m*\u001B[39m\u001B[38;5;28mself\u001B[39m\u001B[38;5;241m.\u001B[39m_get_lines(\u001B[38;5;241m*\u001B[39margs, data\u001B[38;5;241m=\u001B[39mdata, \u001B[38;5;241m*\u001B[39m\u001B[38;5;241m*\u001B[39mkwargs)]\n\u001B[1;32m   1663\u001B[0m \u001B[38;5;28;01mfor\u001B[39;00m line \u001B[38;5;129;01min\u001B[39;00m lines:\n\u001B[0;32m-> 1664\u001B[0m     \u001B[38;5;28;43mself\u001B[39;49m\u001B[38;5;241;43m.\u001B[39;49m\u001B[43madd_line\u001B[49m\u001B[43m(\u001B[49m\u001B[43mline\u001B[49m\u001B[43m)\u001B[49m\n\u001B[1;32m   1665\u001B[0m \u001B[38;5;28;01mif\u001B[39;00m scalex:\n\u001B[1;32m   1666\u001B[0m     \u001B[38;5;28mself\u001B[39m\u001B[38;5;241m.\u001B[39m_request_autoscale_view(\u001B[38;5;124m\"\u001B[39m\u001B[38;5;124mx\u001B[39m\u001B[38;5;124m\"\u001B[39m)\n",
      "File \u001B[0;32m/users/nfs/Enseignants/piwowarski/venv/deepdac/lib/python3.9/site-packages/matplotlib/axes/_base.py:2339\u001B[0m, in \u001B[0;36m_AxesBase.add_line\u001B[0;34m(self, line)\u001B[0m\n\u001B[1;32m   2336\u001B[0m \u001B[38;5;28;01mif\u001B[39;00m line\u001B[38;5;241m.\u001B[39mget_clip_path() \u001B[38;5;129;01mis\u001B[39;00m \u001B[38;5;28;01mNone\u001B[39;00m:\n\u001B[1;32m   2337\u001B[0m     line\u001B[38;5;241m.\u001B[39mset_clip_path(\u001B[38;5;28mself\u001B[39m\u001B[38;5;241m.\u001B[39mpatch)\n\u001B[0;32m-> 2339\u001B[0m \u001B[38;5;28;43mself\u001B[39;49m\u001B[38;5;241;43m.\u001B[39;49m\u001B[43m_update_line_limits\u001B[49m\u001B[43m(\u001B[49m\u001B[43mline\u001B[49m\u001B[43m)\u001B[49m\n\u001B[1;32m   2340\u001B[0m \u001B[38;5;28;01mif\u001B[39;00m \u001B[38;5;129;01mnot\u001B[39;00m line\u001B[38;5;241m.\u001B[39mget_label():\n\u001B[1;32m   2341\u001B[0m     line\u001B[38;5;241m.\u001B[39mset_label(\u001B[38;5;124mf\u001B[39m\u001B[38;5;124m'\u001B[39m\u001B[38;5;124m_child\u001B[39m\u001B[38;5;132;01m{\u001B[39;00m\u001B[38;5;28mlen\u001B[39m(\u001B[38;5;28mself\u001B[39m\u001B[38;5;241m.\u001B[39m_children)\u001B[38;5;132;01m}\u001B[39;00m\u001B[38;5;124m'\u001B[39m)\n",
      "File \u001B[0;32m/users/nfs/Enseignants/piwowarski/venv/deepdac/lib/python3.9/site-packages/matplotlib/axes/_base.py:2362\u001B[0m, in \u001B[0;36m_AxesBase._update_line_limits\u001B[0;34m(self, line)\u001B[0m\n\u001B[1;32m   2358\u001B[0m \u001B[38;5;28;01mdef\u001B[39;00m \u001B[38;5;21m_update_line_limits\u001B[39m(\u001B[38;5;28mself\u001B[39m, line):\n\u001B[1;32m   2359\u001B[0m     \u001B[38;5;124;03m\"\"\"\u001B[39;00m\n\u001B[1;32m   2360\u001B[0m \u001B[38;5;124;03m    Figures out the data limit of the given line, updating self.dataLim.\u001B[39;00m\n\u001B[1;32m   2361\u001B[0m \u001B[38;5;124;03m    \"\"\"\u001B[39;00m\n\u001B[0;32m-> 2362\u001B[0m     path \u001B[38;5;241m=\u001B[39m \u001B[43mline\u001B[49m\u001B[38;5;241;43m.\u001B[39;49m\u001B[43mget_path\u001B[49m\u001B[43m(\u001B[49m\u001B[43m)\u001B[49m\n\u001B[1;32m   2363\u001B[0m     \u001B[38;5;28;01mif\u001B[39;00m path\u001B[38;5;241m.\u001B[39mvertices\u001B[38;5;241m.\u001B[39msize \u001B[38;5;241m==\u001B[39m \u001B[38;5;241m0\u001B[39m:\n\u001B[1;32m   2364\u001B[0m         \u001B[38;5;28;01mreturn\u001B[39;00m\n",
      "File \u001B[0;32m/users/nfs/Enseignants/piwowarski/venv/deepdac/lib/python3.9/site-packages/matplotlib/lines.py:1031\u001B[0m, in \u001B[0;36mLine2D.get_path\u001B[0;34m(self)\u001B[0m\n\u001B[1;32m   1029\u001B[0m \u001B[38;5;124;03m\"\"\"Return the `~matplotlib.path.Path` associated with this line.\"\"\"\u001B[39;00m\n\u001B[1;32m   1030\u001B[0m \u001B[38;5;28;01mif\u001B[39;00m \u001B[38;5;28mself\u001B[39m\u001B[38;5;241m.\u001B[39m_invalidy \u001B[38;5;129;01mor\u001B[39;00m \u001B[38;5;28mself\u001B[39m\u001B[38;5;241m.\u001B[39m_invalidx:\n\u001B[0;32m-> 1031\u001B[0m     \u001B[38;5;28;43mself\u001B[39;49m\u001B[38;5;241;43m.\u001B[39;49m\u001B[43mrecache\u001B[49m\u001B[43m(\u001B[49m\u001B[43m)\u001B[49m\n\u001B[1;32m   1032\u001B[0m \u001B[38;5;28;01mreturn\u001B[39;00m \u001B[38;5;28mself\u001B[39m\u001B[38;5;241m.\u001B[39m_path\n",
      "File \u001B[0;32m/users/nfs/Enseignants/piwowarski/venv/deepdac/lib/python3.9/site-packages/matplotlib/lines.py:659\u001B[0m, in \u001B[0;36mLine2D.recache\u001B[0;34m(self, always)\u001B[0m\n\u001B[1;32m    657\u001B[0m \u001B[38;5;28;01mif\u001B[39;00m always \u001B[38;5;129;01mor\u001B[39;00m \u001B[38;5;28mself\u001B[39m\u001B[38;5;241m.\u001B[39m_invalidx:\n\u001B[1;32m    658\u001B[0m     xconv \u001B[38;5;241m=\u001B[39m \u001B[38;5;28mself\u001B[39m\u001B[38;5;241m.\u001B[39mconvert_xunits(\u001B[38;5;28mself\u001B[39m\u001B[38;5;241m.\u001B[39m_xorig)\n\u001B[0;32m--> 659\u001B[0m     x \u001B[38;5;241m=\u001B[39m \u001B[43m_to_unmasked_float_array\u001B[49m\u001B[43m(\u001B[49m\u001B[43mxconv\u001B[49m\u001B[43m)\u001B[49m\u001B[38;5;241m.\u001B[39mravel()\n\u001B[1;32m    660\u001B[0m \u001B[38;5;28;01melse\u001B[39;00m:\n\u001B[1;32m    661\u001B[0m     x \u001B[38;5;241m=\u001B[39m \u001B[38;5;28mself\u001B[39m\u001B[38;5;241m.\u001B[39m_x\n",
      "File \u001B[0;32m/users/nfs/Enseignants/piwowarski/venv/deepdac/lib/python3.9/site-packages/matplotlib/cbook/__init__.py:1369\u001B[0m, in \u001B[0;36m_to_unmasked_float_array\u001B[0;34m(x)\u001B[0m\n\u001B[1;32m   1367\u001B[0m     \u001B[38;5;28;01mreturn\u001B[39;00m np\u001B[38;5;241m.\u001B[39mma\u001B[38;5;241m.\u001B[39masarray(x, \u001B[38;5;28mfloat\u001B[39m)\u001B[38;5;241m.\u001B[39mfilled(np\u001B[38;5;241m.\u001B[39mnan)\n\u001B[1;32m   1368\u001B[0m \u001B[38;5;28;01melse\u001B[39;00m:\n\u001B[0;32m-> 1369\u001B[0m     \u001B[38;5;28;01mreturn\u001B[39;00m \u001B[43mnp\u001B[49m\u001B[38;5;241;43m.\u001B[39;49m\u001B[43masarray\u001B[49m\u001B[43m(\u001B[49m\u001B[43mx\u001B[49m\u001B[43m,\u001B[49m\u001B[43m \u001B[49m\u001B[38;5;28;43mfloat\u001B[39;49m\u001B[43m)\u001B[49m\n",
      "\u001B[0;31mValueError\u001B[0m: setting an array element with a sequence."
     ]
    },
    {
     "data": {
      "text/plain": "<Figure size 640x480 with 1 Axes>",
      "image/png": "[encoded data removed]"
     },
     "metadata": {},
     "output_type": "display_data"
    }
   ],
   "source": [
    "benchmark.run(show_plots=True, print_data=True)"
   ],
   "metadata": {
    "collapsed": false,
    "ExecuteTime": {
     "end_time": "2024-05-10T14:27:49.516517700Z",
     "start_time": "2024-05-10T14:12:50.282943300Z"
    }
   },
   "id": "63c3a391bff2fa3f",
   "execution_count": 8
  },
  {
   "cell_type": "code",
   "outputs": [],
   "source": [],
   "metadata": {
    "collapsed": false,
    "ExecuteTime": {
     "end_time": "2024-05-10T12:58:44.181908300Z",
     "start_time": "2024-05-10T12:58:44.146928700Z"
    }
   },
   "id": "ffaebe55e449db86",
   "execution_count": 22
  }
 ],
 "metadata": {
  "kernelspec": {
   "display_name": "Python 3",
   "language": "python",
   "name": "python3"
  },
  "language_info": {
   "codemirror_mode": {
    "name": "ipython",
    "version": 2
   },
   "file_extension": ".py",
   "mimetype": "text/x-python",
   "name": "python",
   "nbconvert_exporter": "python",
   "pygments_lexer": "ipython2",
   "version": "2.7.6"
  }
 },
 "nbformat": 4,
 "nbformat_minor": 5
}
